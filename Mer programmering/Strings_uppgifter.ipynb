{
 "metadata": {
  "language_info": {
   "codemirror_mode": {
    "name": "ipython",
    "version": 3
   },
   "file_extension": ".py",
   "mimetype": "text/x-python",
   "name": "python",
   "nbconvert_exporter": "python",
   "pygments_lexer": "ipython3",
   "version": "3.8.3-final"
  },
  "orig_nbformat": 2,
  "kernelspec": {
   "name": "python3",
   "display_name": "Python 3"
  }
 },
 "nbformat": 4,
 "nbformat_minor": 2,
 "cells": [
  {
   "source": [
    "# uppgift 1\n",
    "Skriv ett program som låter användaren mata in sitt namn och programmet skriver ut antalet bokstäver i namnet."
   ],
   "cell_type": "markdown",
   "metadata": {}
  },
  {
   "cell_type": "code",
   "execution_count": 1,
   "metadata": {},
   "outputs": [
    {
     "output_type": "stream",
     "name": "stdout",
     "text": [
      "Namnet innehåller 5 bokstäver\n"
     ]
    }
   ],
   "source": [
    "namn = input(\"Skriv ditt förnamn här så får du de hur många bokstäver det innehåller\")\n",
    "\n",
    "print(f\"Namnet innehåller {len(namn)} bokstäver\")"
   ]
  },
  {
   "source": [
    "# uppgift 2\n",
    "skriv ett program som räknar antalet ord i denna mening: \"En bild säger mer än tusen ord, en matematisk formel säger mer än tusen bilder\""
   ],
   "cell_type": "markdown",
   "metadata": {}
  },
  {
   "cell_type": "code",
   "execution_count": 5,
   "metadata": {},
   "outputs": [
    {
     "output_type": "stream",
     "name": "stdout",
     "text": [
      "Meningen innehåller 15st ord.\n"
     ]
    }
   ],
   "source": [
    "mening = \"En bild säger mer än tusen ord, en matematisk formel säger mer än tusen bilder\"\n",
    "\n",
    "mening = mening.split()\n",
    "\n",
    "print(f\"Meningen innehåller {len(mening)}st ord.\")"
   ]
  },
  {
   "source": [
    "# uppgift 3\n",
    "+ Ett palindrom är en följd av tecken som är densamma när man läser framlänges som baklänges (man räknar inte med skiljetecken och mellanslag). Exempel på palindrom är ”Anna”, ”Ni talar bra latin” och ”bjkjb”.\n",
    "\n",
    "- (a) Skriv ett program som låter användaren mata in en följd av tecken utan mellanslag och skiljetecken och skriv ut om följden är ett palindrom.\n",
    "\n",
    "- (b) Skriv ett program som låter användaren skriva in en följd av tecken inklusive mellanslag och skiljetecken och skriv ut om följden är ett palindrom."
   ],
   "cell_type": "markdown",
   "metadata": {}
  },
  {
   "cell_type": "code",
   "execution_count": 36,
   "metadata": {},
   "outputs": [
    {
     "output_type": "stream",
     "name": "stdout",
     "text": [
      "det du matade in är ett palindrom\n"
     ]
    }
   ],
   "source": [
    "# a)\n",
    "\n",
    "tecken = input(\"Skriv ett antal tecken utan mellanslag eller skiljetecken så berättar programmet om det är ett palindrom eller ej\")\n",
    "\n",
    "tecken = tecken.lower()\n",
    "\n",
    "if tecken == tecken[::-1]:\n",
    "    print(\"det du matade in är ett palindrom\")\n",
    "else:\n",
    "    print(\"det där är inte ett palindrom\")"
   ]
  },
  {
   "cell_type": "code",
   "execution_count": 2,
   "metadata": {},
   "outputs": [
    {
     "output_type": "stream",
     "name": "stdout",
     "text": [
      "det där är inte ett palindrom\n"
     ]
    }
   ],
   "source": [
    "# b)\n",
    "\n",
    "tecken = input(\"Skriv ett antal tecken så berättar programmet om det är ett palindrom eller ej (Okej med mellanslag och skiljetecken)\")\n",
    "\n",
    "tecken = tecken.lower()\n",
    "tecken = tecken.replace(' ','')\n",
    "\n",
    "if tecken == tecken[::-1]:\n",
    "    print(\"det du matade in är ett palindrom\")\n",
    "else:\n",
    "    print(\"det där är inte ett palindrom\")\n"
   ]
  },
  {
   "source": [
    "# uppgift 4"
   ],
   "cell_type": "markdown",
   "metadata": {}
  }
 ]
}