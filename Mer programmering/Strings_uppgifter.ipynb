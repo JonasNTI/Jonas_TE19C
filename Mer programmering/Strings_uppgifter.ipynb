{
 "metadata": {
  "language_info": {
   "codemirror_mode": {
    "name": "ipython",
    "version": 3
   },
   "file_extension": ".py",
   "mimetype": "text/x-python",
   "name": "python",
   "nbconvert_exporter": "python",
   "pygments_lexer": "ipython3",
   "version": "3.8.3-final"
  },
  "orig_nbformat": 2,
  "kernelspec": {
   "name": "python3",
   "display_name": "Python 3"
  }
 },
 "nbformat": 4,
 "nbformat_minor": 2,
 "cells": [
  {
   "source": [
    "# uppgift 1\n",
    "Skriv ett program som låter användaren mata in sitt namn och programmet skriver ut antalet bokstäver i namnet."
   ],
   "cell_type": "markdown",
   "metadata": {}
  },
  {
   "cell_type": "code",
   "execution_count": 1,
   "metadata": {},
   "outputs": [
    {
     "output_type": "stream",
     "name": "stdout",
     "text": [
      "Namnet innehåller 5 bokstäver\n"
     ]
    }
   ],
   "source": [
    "namn = input(\"Skriv ditt förnamn här så får du de hur många bokstäver det innehåller\")\n",
    "\n",
    "print(f\"Namnet innehåller {len(namn)} bokstäver\")"
   ]
  },
  {
   "source": [
    "# uppgift 2\n",
    "skriv ett program som räknar antalet ord i denna mening: \"En bild säger mer än tusen ord, en matematisk formel säger mer än tusen bilder\""
   ],
   "cell_type": "markdown",
   "metadata": {}
  },
  {
   "cell_type": "code",
   "execution_count": 5,
   "metadata": {},
   "outputs": [
    {
     "output_type": "stream",
     "name": "stdout",
     "text": [
      "Meningen innehåller 15st ord.\n"
     ]
    }
   ],
   "source": [
    "mening = \"En bild säger mer än tusen ord, en matematisk formel säger mer än tusen bilder\"\n",
    "\n",
    "mening = mening.split()\n",
    "\n",
    "print(f\"Meningen innehåller {len(mening)}st ord.\")"
   ]
  },
  {
   "source": [
    "# uppgift 3\n",
    "+ Ett palindrom är en följd av tecken som är densamma när man läser framlänges som baklänges (man räknar inte med skiljetecken och mellanslag). Exempel på palindrom är ”Anna”, ”Ni talar bra latin” och ”bjkjb”.\n",
    "\n",
    "- (a) Skriv ett program som låter användaren mata in en följd av tecken utan mellanslag och skiljetecken och skriv ut om följden är ett palindrom.\n",
    "\n",
    "- (b) Skriv ett program som låter användaren skriva in en följd av tecken inklusive mellanslag och skiljetecken och skriv ut om följden är ett palindrom."
   ],
   "cell_type": "markdown",
   "metadata": {}
  },
  {
   "cell_type": "code",
   "execution_count": 7,
   "metadata": {},
   "outputs": [
    {
     "output_type": "stream",
     "name": "stdout",
     "text": [
      "det du matade in är ett palindrom\n"
     ]
    }
   ],
   "source": [
    "# a)\n",
    "\n",
    "tecken = input(\"Skriv ett antal tecken utan mellanslag eller skiljetecken så berättar programmet om det är ett palindrom eller ej\")\n",
    "\n",
    "tecken = tecken.lower()\n",
    "\n",
    "if tecken == tecken[::-1]:\n",
    "    print(\"det du matade in är ett palindrom\")\n",
    "else:\n",
    "    print(\"det där är inte ett palindrom\")"
   ]
  },
  {
   "cell_type": "code",
   "execution_count": 34,
   "metadata": {},
   "outputs": [
    {
     "output_type": "stream",
     "name": "stdout",
     "text": [
      "det du matade in är ett palindrom\n"
     ]
    }
   ],
   "source": [
    "# b)\n",
    "\n",
    "tecken = input(\"Skriv ett antal tecken så berättar programmet om det är ett palindrom eller ej (Okej med mellanslag och skiljetecken)\")\n",
    "\n",
    "tecken = tecken.lower()\n",
    "tecken = tecken.replace(' ','')\n",
    "\n",
    "if tecken == tecken[::-1]:\n",
    "    print(\"det du matade in är ett palindrom\")\n",
    "else:\n",
    "    print(\"det där är inte ett palindrom\")\n"
   ]
  },
  {
   "source": [
    "# uppgift 4\n",
    "skriv ett program som räknar antalet vokaler i detta citat: \"Do not worry about your difficulties in Mathematics. I can assure you mine are still greater.\""
   ],
   "cell_type": "markdown",
   "metadata": {}
  },
  {
   "cell_type": "code",
   "execution_count": 36,
   "metadata": {},
   "outputs": [
    {
     "output_type": "stream",
     "name": "stdout",
     "text": [
      "1\n1\n1\n1\n1\n1\n1\n1\n1\n1\n1\n1\n1\n1\n1\n1\n1\n1\n1\n1\n1\n1\n1\n1\n1\n1\n1\n1\n1\n1\n1\n1\n1\n1\n1\n"
     ]
    }
   ],
   "source": [
    "Citat = \"Do not worry about your difficulties in Mathematics. I can assure you mine are still greater.\"\n",
    "Vokaler = \"aouåeiyäö\"\n",
    "Antal_vokaler = 0\n",
    "\n",
    "for bokstav in Citat:\n",
    "    for vokal in Vokaler:\n",
    "        if bokstav == vokal:\n",
    "            Antal_vokaler += 1\n",
    "print(Antal_vokaler)\n",
    "\n"
   ]
  },
  {
   "source": [
    "# uppgift 5\n",
    "+ Skriv ett program som låter användaren mata in ett ord\n",
    "- (a) Kryptera därefter meddelandet genom att ersätta varje bokstav med nästa bokstav. Är bokstaven Ö ska den ersättas med A. Exempel: \"höjd\" --> \"iake\"\n",
    "- (b) Dekryptera nu meddelandet. Exempel: \"lösmfl\" --> \"kärlek\"\n",
    "- (c) Låt användaren skriva in ett meddelande, välja kryptera/dekryptera och utför krypteringen/dekrypteringen."
   ],
   "cell_type": "markdown",
   "metadata": {}
  },
  {
   "cell_type": "code",
   "execution_count": null,
   "metadata": {},
   "outputs": [],
   "source": [
    "Ord = input(\"Skriv vilket ord du vill: \")\n",
    "\n",
    "# (a)\n",
    "\n"
   ]
  }
 ]
}