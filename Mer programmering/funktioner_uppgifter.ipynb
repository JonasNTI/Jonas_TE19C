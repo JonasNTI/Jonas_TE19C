{
 "metadata": {
  "language_info": {
   "codemirror_mode": {
    "name": "ipython",
    "version": 3
   },
   "file_extension": ".py",
   "mimetype": "text/x-python",
   "name": "python",
   "nbconvert_exporter": "python",
   "pygments_lexer": "ipython3",
   "version": "3.8.3-final"
  },
  "orig_nbformat": 2,
  "kernelspec": {
   "name": "python3",
   "display_name": "Python 3"
  }
 },
 "nbformat": 4,
 "nbformat_minor": 2,
 "cells": [
  {
   "source": [
    "# Uppgift 1\n",
    "+ Formeln för en aritmetisk summa är:   sn = a1 + a2 + ... + an = n(a1 + an)/2\n",
    "- a) Skriv en funktion som beräknar aritmetisk summa. Funktionen ska heta aritmetisk_summa och ha paramtrarna n,a1,an.\n",
    "- b) Använd din funktion för att beräkna summan sn = 1+2+3+...+100\n",
    "- c) Låt användaren mata in a1,an,n och programmet ska anropa funktionen aritmetisk_summa och därefter skriva ut - resultatet på ett snyggt formaterat sätt."
   ],
   "cell_type": "markdown",
   "metadata": {}
  },
  {
   "cell_type": "code",
   "execution_count": 20,
   "metadata": {},
   "outputs": [
    {
     "output_type": "stream",
     "name": "stdout",
     "text": [
      "5050\n"
     ]
    }
   ],
   "source": [
    "# a)\n",
    "def aritmetisk_summa(n,a1,an):\n",
    "    return n*(a1+an)/2\n",
    "\n",
    "# b)\n",
    "print(f\"{aritmetisk_summa(100,1,100):.0f}\")"
   ]
  },
  {
   "cell_type": "code",
   "execution_count": 18,
   "metadata": {},
   "outputs": [
    {
     "output_type": "stream",
     "name": "stdout",
     "text": [
      "Summan av din aritmetiska funktion blev: 5050\n"
     ]
    }
   ],
   "source": [
    "# c)\n",
    "\n",
    "a1 = int(input(\"Skriv det första värdet för den aritmetiska funktionen\"))\n",
    "n = int(input(\"Skriv hur många tal den aritmetiska funktionen ska räkna med\"))\n",
    "an = int(input(\"Skriv det sista talet i den aritmetiska funktionen\"))\n",
    "\n",
    "def aritmetisk_summa(n,a1,an):\n",
    "    return n*(a1+an)/2\n",
    "\n",
    "print(f\"Summan av din aritmetiska funktion blev: {aritmetisk_summa(n,a1,an):.0f}\")"
   ]
  },
  {
   "source": [
    "# Uppgift 2\n",
    "+ Gör en funktion som beräknar summan: s = 1+3+5+...+(2n+1)\n",
    "- a) Låt användaren mata in ett 'n' och programmet ska skriva ut resultatet på ett snyggt formaterat sätt.\n",
    "- b) Gör om funktionen så att användaren kan mata in ett startvärde och ett 'n'. Funktionen ska ge resultatet på ett snyggt formaterat sätt."
   ],
   "cell_type": "markdown",
   "metadata": {}
  },
  {
   "cell_type": "code",
   "execution_count": 10,
   "metadata": {},
   "outputs": [
    {
     "output_type": "stream",
     "name": "stdout",
     "text": [
      "-1\n"
     ]
    }
   ],
   "source": [
    "# a)\n",
    "\n",
    "def s(n,a1,an):\n",
    "        "
   ]
  }
 ]
}