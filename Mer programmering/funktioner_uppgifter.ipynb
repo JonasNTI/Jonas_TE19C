{
 "metadata": {
  "language_info": {
   "codemirror_mode": {
    "name": "ipython",
    "version": 3
   },
   "file_extension": ".py",
   "mimetype": "text/x-python",
   "name": "python",
   "nbconvert_exporter": "python",
   "pygments_lexer": "ipython3",
   "version": "3.8.3-final"
  },
  "orig_nbformat": 2,
  "kernelspec": {
   "name": "python3",
   "display_name": "Python 3"
  }
 },
 "nbformat": 4,
 "nbformat_minor": 2,
 "cells": [
  {
   "source": [
    "# Uppgift 1\n",
    "+ Formeln för en aritmetisk summa är:   sn = a1 + a2 + ... + an = n(a1 + an)/2\n",
    "- a) Skriv en funktion som beräknar aritmetisk summa. Funktionen ska heta aritmetisk_summa och ha paramtrarna n,a1,an.\n",
    "- b) Använd din funktion för att beräkna summan sn = 1+2+3+...+100\n",
    "- c) Låt användaren mata in a1,an,n och programmet ska anropa funktionen aritmetisk_summa och därefter skriva ut - resultatet på ett snyggt formaterat sätt."
   ],
   "cell_type": "markdown",
   "metadata": {}
  },
  {
   "cell_type": "code",
   "execution_count": 2,
   "metadata": {},
   "outputs": [
    {
     "output_type": "stream",
     "name": "stdout",
     "text": [
      "5050\n"
     ]
    }
   ],
   "source": [
    "# a)\n",
    "def aritmetisk_summa(n,a1,an):\n",
    "    return n*(a1+an)/2\n",
    "\n",
    "# b)\n",
    "print(f\"{aritmetisk_summa(100,1,100):.0f}\")"
   ]
  },
  {
   "cell_type": "code",
   "execution_count": 3,
   "metadata": {},
   "outputs": [
    {
     "output_type": "stream",
     "name": "stdout",
     "text": [
      "Summan av din aritmetiska funktion blev: 5050\n"
     ]
    }
   ],
   "source": [
    "# c)\n",
    "\n",
    "a1 = int(input(\"Skriv det första värdet för den aritmetiska funktionen\"))\n",
    "n = int(input(\"Skriv hur många tal den aritmetiska funktionen ska räkna med\"))\n",
    "an = int(input(\"Skriv det sista talet i den aritmetiska funktionen\"))\n",
    "\n",
    "def aritmetisk_summa(n,a1,an):\n",
    "    return n*(a1+an)/2\n",
    "\n",
    "print(f\"Summan av din aritmetiska funktion blev: {aritmetisk_summa(n,a1,an):.0f}\")"
   ]
  },
  {
   "source": [
    "# Uppgift 2\n",
    "+ Gör en funktion som beräknar summan: s = 1+3+5+...+(2n+1)\n",
    "- a) Låt användaren mata in ett 'n' och programmet ska skriva ut resultatet på ett snyggt formaterat sätt.\n",
    "- b) Gör om funktionen så att användaren kan mata in ett startvärde och ett 'n'. Funktionen ska ge resultatet på ett snyggt formaterat sätt."
   ],
   "cell_type": "markdown",
   "metadata": {}
  },
  {
   "cell_type": "code",
   "execution_count": 122,
   "metadata": {},
   "outputs": [
    {
     "output_type": "stream",
     "name": "stdout",
     "text": [
      "Den aritmetiska summan blev: 100\n"
     ]
    }
   ],
   "source": [
    "# a)\n",
    "\n",
    "n = int(input(\"Skriv in ett tal som multiplicerat med 2 och sedan adderat med 1 ska bli uträkningens sista term:\"))\n",
    "\n",
    "def s(n):\n",
    "    summa = 0\n",
    "    for i in range(1,2*n+2,2):\n",
    "        summa += i\n",
    "    return summa\n",
    "\n",
    "print(f\"Den aritmetiska summan blev: {s(n):.0f}\")"
   ]
  },
  {
   "cell_type": "code",
   "execution_count": 123,
   "metadata": {},
   "outputs": [
    {
     "output_type": "stream",
     "name": "stdout",
     "text": [
      "Den aritmetiska summan blev: 25\n"
     ]
    }
   ],
   "source": [
    "# b)\n",
    "\n",
    "n = int(input(\"Skriv in ett tal som multiplicerat med 2 och sedan adderat med 1 ska bli uträkningens sista term:\"))\n",
    "a1 = int(input(\"Vilket tal ska vara starttalet i den aritmetiska utränkingen?:\"))\n",
    "\n",
    "def s(a1,n):\n",
    "    summa = 0\n",
    "    for i in range(a1,2*n+2,2):\n",
    "        summa += i\n",
    "    return summa\n",
    "\n",
    "print(f\"Den aritmetiska summan blev: {s(a1,n):.0f}\")"
   ]
  },
  {
   "source": [
    "# Uppgift 3\n",
    "Punkterna P1 och P2 är markerade i koordinatsystemet\n",
    "\n",
    "+ a) Beräkna avståndet mellan dessa punkter.\n",
    "+ b) Skriv en funktion som tar in två punkter som inparametrar och som returnerar avståndet.\n",
    "+ c) Låt användaren mata in två punkter som inparametrar och använd funktionen för att beräkna avståndet mellan dessa punkter."
   ],
   "cell_type": "markdown",
   "metadata": {}
  },
  {
   "cell_type": "code",
   "execution_count": 125,
   "metadata": {},
   "outputs": [
    {
     "output_type": "stream",
     "name": "stdout",
     "text": [
      "5.385164807134504\n"
     ]
    }
   ],
   "source": [
    "# a)\n",
    "\n",
    "x1 = 3\n",
    "x2 = (-2)\n",
    "y1 = 3\n",
    "y2 = 1\n",
    "\n",
    "avstånd = math.sqrt((x2-x1)**2 + (y2-y1)**2)\n",
    "\n",
    "print(avstånd)"
   ]
  },
  {
   "cell_type": "code",
   "execution_count": 127,
   "metadata": {},
   "outputs": [
    {
     "output_type": "stream",
     "name": "stdout",
     "text": [
      "5.385164807134504\n"
     ]
    }
   ],
   "source": [
    "# b)\n",
    "\n",
    "import math\n",
    "\n",
    "def avstånd(Px1,Py1,Px2,Py2):\n",
    "    return math.sqrt((Px2-Px1)**2 + (Py2-Py1)**2)\n",
    "\n",
    "print(avstånd(3,3,(-2),1))"
   ]
  }
 ]
}