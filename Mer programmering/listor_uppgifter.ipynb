{
 "metadata": {
  "language_info": {
   "codemirror_mode": {
    "name": "ipython",
    "version": 3
   },
   "file_extension": ".py",
   "mimetype": "text/x-python",
   "name": "python",
   "nbconvert_exporter": "python",
   "pygments_lexer": "ipython3",
   "version": "3.8.3-final"
  },
  "orig_nbformat": 2,
  "kernelspec": {
   "name": "python3",
   "display_name": "Python 3"
  }
 },
 "nbformat": 4,
 "nbformat_minor": 2,
 "cells": [
  {
   "source": [
    "# Uppgift 1\n",
    "skriv ett program som simulerar 10 tärningskast, lägger i en lista och:\n",
    "* (a) sortera den från minsta till största\n",
    "* (b) sortera den från största till minsta"
   ],
   "cell_type": "markdown",
   "metadata": {}
  },
  {
   "cell_type": "code",
   "execution_count": 55,
   "metadata": {},
   "outputs": [
    {
     "output_type": "stream",
     "name": "stdout",
     "text": [
      "[1] "
     ]
    }
   ],
   "source": [
    "import random as rnd\n",
    "\n",
    "kast = []\n",
    "\n",
    "for i in range(10):\n",
    "    kast = rnd.randint(1,6)\n",
    "\n",
    "print(kast, end = ' ')"
   ]
  },
  {
   "cell_type": "code",
   "execution_count": 52,
   "metadata": {},
   "outputs": [
    {
     "output_type": "stream",
     "name": "stdout",
     "text": [
      "[1, 6, 7]\n"
     ]
    }
   ],
   "source": [
    "test = [1, 7, 6]\n",
    "\n",
    "test.sort()\n",
    "print(test)"
   ]
  }
 ]
}