{
 "metadata": {
  "language_info": {
   "codemirror_mode": {
    "name": "ipython",
    "version": 3
   },
   "file_extension": ".py",
   "mimetype": "text/x-python",
   "name": "python",
   "nbconvert_exporter": "python",
   "pygments_lexer": "ipython3",
   "version": "3.8.3-final"
  },
  "orig_nbformat": 2,
  "kernelspec": {
   "name": "python3",
   "display_name": "Python 3",
   "language": "python"
  }
 },
 "nbformat": 4,
 "nbformat_minor": 2,
 "cells": [
  {
   "source": [
    "Uppgift 1\n",
    "\n",
    "På rad 1 & 2 bestäms startvärden till de två variablerna som anger antalet fåglar och antalet år\n",
    "På rad 3 börjar whilesatsen som körs så länge antalet fåglar är större än 800\n",
    "Innuti whilesatsen adderas antal år med 1 på rad 4 för varje gång whilesatsen repeteras"
   ],
   "cell_type": "markdown",
   "metadata": {}
  },
  {
   "cell_type": "code",
   "execution_count": 10,
   "metadata": {},
   "outputs": [
    {
     "output_type": "stream",
     "name": "stdout",
     "text": [
      "3.0\n"
     ]
    }
   ],
   "source": [
    "# Uppgift 3\n",
    "\n",
    "def f(x,y,z):\n",
    "    return (x+y+z)/3\n",
    "\n",
    "print(f(1,3,5))"
   ]
  },
  {
   "cell_type": "code",
   "execution_count": 5,
   "metadata": {},
   "outputs": [
    {
     "output_type": "stream",
     "name": "stdout",
     "text": [
      "33.510321638291124\n"
     ]
    }
   ],
   "source": [
    "# Uppgift 4\n",
    "\n",
    "import math\n",
    "\n",
    "r = \n",
    "\n",
    "def f(r):\n",
    "    return(4*math.pi*r**3)/3\n",
    "\n",
    "print(f(r))"
   ]
  },
  {
   "cell_type": "code",
   "execution_count": 8,
   "metadata": {},
   "outputs": [
    {
     "output_type": "stream",
     "name": "stdout",
     "text": [
      "Din mening innehåller 4st ord\n"
     ]
    }
   ],
   "source": [
    "# Uppgift 5\n",
    "\n",
    "mening = input(\"Skriv en mening\")\n",
    "mening = mening.split()\n",
    "print(f\"Din mening innehåller {len(mening)}st ord\")"
   ]
  },
  {
   "cell_type": "code",
   "execution_count": 12,
   "metadata": {},
   "outputs": [
    {
     "output_type": "stream",
     "name": "stdout",
     "text": [
      "[1, 2, 3, 4, 5, 6, 7, 8, 9, 10]\n"
     ]
    }
   ],
   "source": [
    "# Uppgift 6\n",
    "\n",
    "#for i in range(1,11):\n",
    " #   for n in range(1,11):\n",
    "  #      svar = int(input(f\"Vad blir {i}*{n}?\"))\n",
    "   #     if svar != i*n:\n",
    "    #        svar = int(input(\"Var god försök igen\"))\n",
    "     #   else:\n",
    "      #      print(svar)\n",
    "Tabell = int(input(\"Vilken multiplikationstabell vill du öva på?\"))\n",
    "svarslista = []\n",
    "rättningslista = []\n",
    "\n",
    "\n",
    "for i in range(1,11):\n",
    "    rätt = n*Tabell\n",
    "    rättningslista.append(rätt)\n",
    "    svar = int(input(f\"Vad blir {i}x{Tabell}\"))\n",
    "    svarslista.append(svar)\n",
    "    if svar != rätt:\n",
    "\n",
    "    \n",
    "\n",
    "print(svarslista)"
   ]
  },
  {
   "cell_type": "code",
   "execution_count": 31,
   "metadata": {},
   "outputs": [
    {
     "output_type": "stream",
     "name": "stdout",
     "text": [
      "1696\n"
     ]
    }
   ],
   "source": [
    "# Uppgift 7\n",
    "\n",
    "import random as rnd\n",
    "\n",
    "femmor = 0\n",
    "\n",
    "for i in range(10000):\n",
    "    kast = rnd.randint(1,6)\n",
    "    if kast == 5:\n",
    "        femmor += 1\n",
    "\n",
    "print(femmor)"
   ]
  },
  {
   "cell_type": "code",
   "execution_count": 6,
   "metadata": {},
   "outputs": [
    {
     "output_type": "stream",
     "name": "stdout",
     "text": [
      "6 tusenlappar, femhundralappar, tvåhundralappar, hundralappar, femtiolappar, tjugolappar, tiokronor, femkronor, tvåkronor, enkronor, "
     ]
    },
    {
     "output_type": "error",
     "ename": "IndexError",
     "evalue": "list index out of range",
     "traceback": [
      "\u001b[1;31m---------------------------------------------------------------------------\u001b[0m",
      "\u001b[1;31mIndexError\u001b[0m                                Traceback (most recent call last)",
      "\u001b[1;32m<ipython-input-6-298c5e43cf16>\u001b[0m in \u001b[0;36m<module>\u001b[1;34m\u001b[0m\n\u001b[0;32m     10\u001b[0m         \u001b[0mprint\u001b[0m\u001b[1;33m(\u001b[0m\u001b[1;34mf\"{antal} {sedlar[i]}\"\u001b[0m\u001b[1;33m,\u001b[0m \u001b[0mend\u001b[0m\u001b[1;33m=\u001b[0m\u001b[1;34m', '\u001b[0m\u001b[1;33m)\u001b[0m\u001b[1;33m\u001b[0m\u001b[1;33m\u001b[0m\u001b[0m\n\u001b[0;32m     11\u001b[0m \u001b[1;33m\u001b[0m\u001b[0m\n\u001b[1;32m---> 12\u001b[1;33m \u001b[0mväxla\u001b[0m\u001b[1;33m(\u001b[0m\u001b[1;36m6520\u001b[0m\u001b[1;33m)\u001b[0m\u001b[1;33m\u001b[0m\u001b[1;33m\u001b[0m\u001b[0m\n\u001b[0m",
      "\u001b[1;32m<ipython-input-6-298c5e43cf16>\u001b[0m in \u001b[0;36mväxla\u001b[1;34m(summa)\u001b[0m\n\u001b[0;32m      8\u001b[0m         \u001b[0mantal\u001b[0m \u001b[1;33m=\u001b[0m \u001b[0msumma\u001b[0m\u001b[1;33m//\u001b[0m\u001b[0mkontanter\u001b[0m\u001b[1;33m[\u001b[0m\u001b[0mi\u001b[0m\u001b[1;33m]\u001b[0m\u001b[1;33m\u001b[0m\u001b[1;33m\u001b[0m\u001b[0m\n\u001b[0;32m      9\u001b[0m         \u001b[0msumma\u001b[0m \u001b[1;33m%=\u001b[0m \u001b[0mkontanter\u001b[0m\u001b[1;33m[\u001b[0m\u001b[0mi\u001b[0m\u001b[1;33m]\u001b[0m\u001b[1;33m\u001b[0m\u001b[1;33m\u001b[0m\u001b[0m\n\u001b[1;32m---> 10\u001b[1;33m         \u001b[0mprint\u001b[0m\u001b[1;33m(\u001b[0m\u001b[1;34mf\"{antal} {sedlar[i]}\"\u001b[0m\u001b[1;33m,\u001b[0m \u001b[0mend\u001b[0m\u001b[1;33m=\u001b[0m\u001b[1;34m', '\u001b[0m\u001b[1;33m)\u001b[0m\u001b[1;33m\u001b[0m\u001b[1;33m\u001b[0m\u001b[0m\n\u001b[0m\u001b[0;32m     11\u001b[0m \u001b[1;33m\u001b[0m\u001b[0m\n\u001b[0;32m     12\u001b[0m \u001b[0mväxla\u001b[0m\u001b[1;33m(\u001b[0m\u001b[1;36m6520\u001b[0m\u001b[1;33m)\u001b[0m\u001b[1;33m\u001b[0m\u001b[1;33m\u001b[0m\u001b[0m\n",
      "\u001b[1;31mIndexError\u001b[0m: list index out of range"
     ]
    }
   ],
   "source": [
    "# Uppgift 8\n",
    "\n",
    "def växla(summa):\n",
    "    kontanter = [1000,500,200,100,50,20,10,5,2,1]\n",
    "    sedlar = [\"tusenlappar, femhundralappar, tvåhundralappar, hundralappar, femtiolappar, tjugolappar, tiokronor, femkronor, tvåkronor, enkronor\"]\n",
    "\n",
    "    for i in range(len(kontanter)):\n",
    "        antal = summa//kontanter[i]\n",
    "        summa %= kontanter[i]\n",
    "        print(f\"{antal} {sedlar[i]}\", end=', ')\n",
    "\n",
    "växla(6520)"
   ]
  },
  {
   "cell_type": "code",
   "execution_count": 20,
   "metadata": {},
   "outputs": [
    {
     "output_type": "error",
     "ename": "NameError",
     "evalue": "name 'lek' is not defined",
     "traceback": [
      "\u001b[1;31m---------------------------------------------------------------------------\u001b[0m",
      "\u001b[1;31mNameError\u001b[0m                                 Traceback (most recent call last)",
      "\u001b[1;32m<ipython-input-20-8b9e438fc675>\u001b[0m in \u001b[0;36m<module>\u001b[1;34m\u001b[0m\n\u001b[0;32m     17\u001b[0m     \u001b[1;32mreturn\u001b[0m \u001b[0mrnd\u001b[0m\u001b[1;33m.\u001b[0m\u001b[0mshuffle\u001b[0m\u001b[1;33m(\u001b[0m\u001b[0mlek\u001b[0m\u001b[1;33m)\u001b[0m\u001b[1;33m\u001b[0m\u001b[1;33m\u001b[0m\u001b[0m\n\u001b[0;32m     18\u001b[0m \u001b[1;33m\u001b[0m\u001b[0m\n\u001b[1;32m---> 19\u001b[1;33m \u001b[0mprint\u001b[0m\u001b[1;33m(\u001b[0m\u001b[0mlek\u001b[0m\u001b[1;33m)\u001b[0m\u001b[1;33m\u001b[0m\u001b[1;33m\u001b[0m\u001b[0m\n\u001b[0m",
      "\u001b[1;31mNameError\u001b[0m: name 'lek' is not defined"
     ]
    }
   ],
   "source": [
    "#Uppgift 10\n",
    "\n",
    "import random as rnd\n",
    "\n",
    "\n",
    "def skapaKortlek():\n",
    "    kortnummer = [i for i in range(2, 11)]\n",
    "    klädkort = [\"J\", \"Q\", \"K\", \"A\"]\n",
    "    kortnummer += klädkort\n",
    "    lek = kortnummer*4  # färg spelar ingen roll i blackjack\n",
    "\n",
    "    blandaKortlek(lek)\n",
    "    return lek\n",
    "\n",
    "\n",
    "def blandaKortlek(lek):\n",
    "    return rnd.shuffle(lek)"
   ]
  }
 ]
}