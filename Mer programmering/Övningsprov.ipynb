{
 "metadata": {
  "language_info": {
   "codemirror_mode": {
    "name": "ipython",
    "version": 3
   },
   "file_extension": ".py",
   "mimetype": "text/x-python",
   "name": "python",
   "nbconvert_exporter": "python",
   "pygments_lexer": "ipython3",
   "version": "3.8.3-final"
  },
  "orig_nbformat": 2,
  "kernelspec": {
   "name": "python3",
   "display_name": "Python 3",
   "language": "python"
  }
 },
 "nbformat": 4,
 "nbformat_minor": 2,
 "cells": [
  {
   "source": [
    "Uppgift 1\n",
    "\n",
    "På rad 1 & 2 bestäms startvärden till de två variablerna som anger antalet fåglar och antalet år\n",
    "På rad 3 börjar whilesatsen som körs så länge antalet fåglar är större än 800\n",
    "Innuti whilesatsen adderas antal år med 1 på rad 4 för varje gång whilesatsen repeteras"
   ],
   "cell_type": "markdown",
   "metadata": {}
  },
  {
   "cell_type": "code",
   "execution_count": 9,
   "metadata": {},
   "outputs": [
    {
     "output_type": "stream",
     "name": "stdout",
     "text": [
      "2.0\n"
     ]
    }
   ],
   "source": [
    "# Uppgift 3\n",
    "\n",
    "def f(x,y,z):\n",
    "    return (x+y+z)/3\n",
    "\n",
    "print(f(1,3,5))"
   ]
  },
  {
   "cell_type": "code",
   "execution_count": 5,
   "metadata": {},
   "outputs": [
    {
     "output_type": "stream",
     "name": "stdout",
     "text": [
      "33.510321638291124\n"
     ]
    }
   ],
   "source": [
    "# Uppgift 4\n",
    "\n",
    "import math\n",
    "\n",
    "r = \n",
    "\n",
    "def f(r):\n",
    "    return(4*math.pi*r**3)/3\n",
    "\n",
    "print(f(r))"
   ]
  },
  {
   "cell_type": "code",
   "execution_count": 8,
   "metadata": {},
   "outputs": [
    {
     "output_type": "stream",
     "name": "stdout",
     "text": [
      "Din mening innehåller 4st ord\n"
     ]
    }
   ],
   "source": [
    "# Uppgift 5\n",
    "\n",
    "mening = input(\"Skriv en mening\")\n",
    "mening = mening.split()\n",
    "print(f\"Din mening innehåller {len(mening)}st ord\")"
   ]
  },
  {
   "cell_type": "code",
   "execution_count": null,
   "metadata": {},
   "outputs": [],
   "source": []
  }
 ]
}