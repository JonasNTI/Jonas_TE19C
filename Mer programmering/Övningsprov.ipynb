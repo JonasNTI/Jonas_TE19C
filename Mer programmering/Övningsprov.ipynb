{
 "metadata": {
  "language_info": {
   "codemirror_mode": {
    "name": "ipython",
    "version": 3
   },
   "file_extension": ".py",
   "mimetype": "text/x-python",
   "name": "python",
   "nbconvert_exporter": "python",
   "pygments_lexer": "ipython3",
   "version": "3.8.3-final"
  },
  "orig_nbformat": 2,
  "kernelspec": {
   "name": "python3",
   "display_name": "Python 3",
   "language": "python"
  }
 },
 "nbformat": 4,
 "nbformat_minor": 2,
 "cells": [
  {
   "source": [
    "Uppgift 1\n",
    "\n",
    "På rad 1 & 2 bestäms startvärden till de två variablerna som anger antalet fåglar och antalet år\n",
    "På rad 3 börjar whilesatsen som körs så länge antalet fåglar är större än 800\n",
    "Innuti whilesatsen adderas antal år med 1 på rad 4 för varje gång whilesatsen repeteras"
   ],
   "cell_type": "markdown",
   "metadata": {}
  },
  {
   "cell_type": "code",
   "execution_count": 10,
   "metadata": {},
   "outputs": [
    {
     "output_type": "stream",
     "name": "stdout",
     "text": [
      "3.0\n"
     ]
    }
   ],
   "source": [
    "# Uppgift 3\n",
    "\n",
    "def f(x,y,z):\n",
    "    return (x+y+z)/3\n",
    "\n",
    "print(f(1,3,5))"
   ]
  },
  {
   "cell_type": "code",
   "execution_count": 5,
   "metadata": {},
   "outputs": [
    {
     "output_type": "stream",
     "name": "stdout",
     "text": [
      "33.510321638291124\n"
     ]
    }
   ],
   "source": [
    "# Uppgift 4\n",
    "\n",
    "import math\n",
    "\n",
    "r = \n",
    "\n",
    "def f(r):\n",
    "    return(4*math.pi*r**3)/3\n",
    "\n",
    "print(f(r))"
   ]
  },
  {
   "cell_type": "code",
   "execution_count": 8,
   "metadata": {},
   "outputs": [
    {
     "output_type": "stream",
     "name": "stdout",
     "text": [
      "Din mening innehåller 4st ord\n"
     ]
    }
   ],
   "source": [
    "# Uppgift 5\n",
    "\n",
    "mening = input(\"Skriv en mening\")\n",
    "mening = mening.split()\n",
    "print(f\"Din mening innehåller {len(mening)}st ord\")"
   ]
  },
  {
   "cell_type": "code",
   "execution_count": 12,
   "metadata": {},
   "outputs": [
    {
     "output_type": "stream",
     "name": "stdout",
     "text": [
      "[1, 2, 3, 4, 5, 6, 7, 8, 9, 10]\n"
     ]
    }
   ],
   "source": [
    "# Uppgift 6\n",
    "\n",
    "#for i in range(1,11):\n",
    " #   for n in range(1,11):\n",
    "  #      svar = int(input(f\"Vad blir {i}*{n}?\"))\n",
    "   #     if svar != i*n:\n",
    "    #        svar = int(input(\"Var god försök igen\"))\n",
    "     #   else:\n",
    "      #      print(svar)\n",
    "Tabell = int(input(\"Vilken multiplikationstabell vill du öva på?\"))\n",
    "svarslista = []\n",
    "rättningslista = []\n",
    "\n",
    "\n",
    "for i in range(1,11):\n",
    "    rätt = n*Tabell\n",
    "    rättningslista.append(rätt)\n",
    "    svar = int(input(f\"Vad blir {i}x{Tabell}\"))\n",
    "    svarslista.append(svar)\n",
    "    if svar != rätt:\n",
    "\n",
    "    \n",
    "\n",
    "print(svarslista)"
   ]
  },
  {
   "cell_type": "code",
   "execution_count": 31,
   "metadata": {},
   "outputs": [
    {
     "output_type": "stream",
     "name": "stdout",
     "text": [
      "1696\n"
     ]
    }
   ],
   "source": [
    "# Uppgift 7\n",
    "\n",
    "import random as rnd\n",
    "\n",
    "femmor = 0\n",
    "\n",
    "for i in range(10000):\n",
    "    kast = rnd.randint(1,6)\n",
    "    if kast == 5:\n",
    "        femmor += 1\n",
    "\n",
    "print(femmor)"
   ]
  },
  {
   "cell_type": "code",
   "execution_count": 37,
   "metadata": {},
   "outputs": [
    {
     "output_type": "stream",
     "name": "stdout",
     "text": [
      "None\n"
     ]
    }
   ],
   "source": [
    "# Uppgift 8\n",
    "\n",
    "\n",
    "\n",
    "def f(x):\n",
    "    return x/1000\n",
    "    print(f(6))"
   ]
  }
 ]
}