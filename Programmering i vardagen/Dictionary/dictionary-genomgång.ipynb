{
 "metadata": {
  "language_info": {
   "codemirror_mode": {
    "name": "ipython",
    "version": 3
   },
   "file_extension": ".py",
   "mimetype": "text/x-python",
   "name": "python",
   "nbconvert_exporter": "python",
   "pygments_lexer": "ipython3",
   "version": "3.8.3-final"
  },
  "orig_nbformat": 2,
  "kernelspec": {
   "name": "python3",
   "display_name": "Python 3.8.3 64-bit ('jonas.olanders': virtualenv)",
   "metadata": {
    "interpreter": {
     "hash": "f1fcf5cd886bc13cad95da124fe07c4e12a9bce74f54c874c9e247e7e6eef8ec"
    }
   }
  }
 },
 "nbformat": 4,
 "nbformat_minor": 2,
 "cells": [
  {
   "source": [
    "# Dictionary\n",
    "- key:value par\n",
    "- metafor: vanlig ordlista/lexikon"
   ],
   "cell_type": "markdown",
   "metadata": {}
  },
  {
   "cell_type": "code",
   "execution_count": 14,
   "metadata": {},
   "outputs": [
    {
     "output_type": "stream",
     "name": "stdout",
     "text": [
      "Jonas är student och går på NTI\n{'namn': 'Jonas', 'ålder': '17', 'yrke': 'student', 'skola': 'NTI'}\n"
     ]
    }
   ],
   "source": [
    "# snytax för dictionary\n",
    "person = dict(\n",
    "    namn = \"Jonas\",\n",
    "    ålder = \"17\",\n",
    "    yrke = \"student\",\n",
    "    skola = \"NTI\"\n",
    ")\n",
    "\n",
    "print(f\"{person['namn']} är {person['yrke']} och går på {person['skola']}\")\n",
    "print(person)"
   ]
  },
  {
   "cell_type": "code",
   "execution_count": 28,
   "metadata": {},
   "outputs": [
    {
     "output_type": "stream",
     "name": "stdout",
     "text": [
      "Ord vi behöver lära oss: \ntilldela  \t ge ett värde till en variabel\ndatastruktur  \t strukturering av data\nsträng  \t sekvens av texken\ndictionary  \t datastruktur för att spara data i key:value par\ntilldela  \t ge ett värde till en variabel\ndatastruktur  \t strukturering av data\nsträng  \t sekvens av texken\ndictionary  \t datastruktur för att spara data i key:value par\n"
     ]
    }
   ],
   "source": [
    "# syntax med {}\n",
    "glosor = {\n",
    "    \"tilldela\": \"ge ett värde till en variabel\",\n",
    "    \"datastruktur\": \"strukturering av data\",\n",
    "    \"sträng\": \"sekvens av texken\"\n",
    "}\n",
    "\n",
    "# lägga till ett element\n",
    "glosor[\"dictionary\"] = \"datastruktur för att spara data i key:value par\"\n",
    "\n",
    "\"\"\" print(glosor[\"tilldela\"])\n",
    "print(glosor[\"sträng\"])\n",
    "print(glosor[\"dictionary\"]) \"\"\"\n",
    "\n",
    "print(\"Ord vi behöver lära oss: \")\n",
    "# ett sätt att loopa igenom en dictionary\n",
    "for key in glosor:\n",
    "    print(f\"{key}  \\t {glosor[key]}\")\n",
    "\n",
    "print(\"\\n\\nGloslista\")\n",
    "# ett anna sätt\n",
    "for key, value in glosor.items():\n",
    "    print(f\"{key}  \\t {value}\")"
   ]
  },
  {
   "cell_type": "code",
   "execution_count": 4,
   "metadata": {},
   "outputs": [
    {
     "output_type": "stream",
     "name": "stdout",
     "text": [
      "{'0': 10, '1': 2, '2': 8, '3': 4, '4': 9, '5': 7, '6': 6, '7': 5, '8': 2, '9': 7}\n"
     ]
    }
   ],
   "source": [
    "# for-sats för att generera nya key-value par\n",
    "import random as rnd\n",
    "\n",
    "siffror = {}\n",
    "\n",
    "for i in range(10):\n",
    "    slumptal = rnd.randint(1,10)\n",
    "    siffror[f\"{i}\"] = slumptal\n",
    "\n",
    "print(siffror)"
   ]
  }
 ]
}