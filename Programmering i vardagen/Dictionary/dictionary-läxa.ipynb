{
 "metadata": {
  "language_info": {
   "codemirror_mode": {
    "name": "ipython",
    "version": 3
   },
   "file_extension": ".py",
   "mimetype": "text/x-python",
   "name": "python",
   "nbconvert_exporter": "python",
   "pygments_lexer": "ipython3",
   "version": "3.8.3-final"
  },
  "orig_nbformat": 2,
  "kernelspec": {
   "name": "python3",
   "display_name": "Python 3.8.3 64-bit (conda)",
   "metadata": {
    "interpreter": {
     "hash": "f1fcf5cd886bc13cad95da124fe07c4e12a9bce74f54c874c9e247e7e6eef8ec"
    }
   }
  }
 },
 "nbformat": 4,
 "nbformat_minor": 2,
 "cells": [
  {
   "source": [
    "# 1.\n",
    "- Skapa en dictionary av de kurser du läser just nu med kursnamn som key och antal poäng som value. Beräkna därefter summan av antalet poäng du läser just nu."
   ],
   "cell_type": "markdown",
   "metadata": {}
  },
  {
   "cell_type": "code",
   "execution_count": 11,
   "metadata": {},
   "outputs": [
    {
     "output_type": "stream",
     "name": "stdout",
     "text": [
      "800\n"
     ]
    }
   ],
   "source": [
    "poang = 0\n",
    "\n",
    "# skapar en dictionary\n",
    "kurser = dict(\n",
    "    DAODAC0 = 100,\n",
    "    ENGENG06 = 100,\n",
    "    FYSFYS01A = 100,\n",
    "    IDRIDR01 = 100,\n",
    "    MATMAT04 = 100,\n",
    "    PRRPRR01 = 100,\n",
    "    SVESVE02 = 100,\n",
    "    WEUWEB01 = 100\n",
    ")\n",
    "\n",
    "# räkna ihop poängen\n",
    "for key in kurser:\n",
    "    poang += kurser[key]\n",
    "\n",
    "print(poang)"
   ]
  },
  {
   "source": [
    "# 2.\n",
    "- Simulera 100000 tärningskast och spara antalet ettor, tvåor, ... i en dictionary. Skriv därefter ut frekvenstabellen i terminalen. Exempel på ett utfall:"
   ],
   "cell_type": "markdown",
   "metadata": {}
  },
  {
   "cell_type": "code",
   "execution_count": 8,
   "metadata": {},
   "outputs": [
    {
     "output_type": "stream",
     "name": "stdout",
     "text": [
      "Frekvenstabell\n1:  16823\n2:  16566\n3:  16658\n4:  16577\n5:  16669\n6:  16707\n"
     ]
    }
   ],
   "source": [
    "import random as rnd\n",
    "\n",
    "# dictionary för olika siffror tärningen hamnar på\n",
    "kast = {\n",
    "    \"1\": 0,\n",
    "    \"2\": 0,\n",
    "    \"3\": 0,\n",
    "    \"4\": 0,\n",
    "    \"5\": 0,\n",
    "    \"6\": 0\n",
    "}\n",
    "\n",
    "# simulerar kasten samt lägger till dem i dictionariet ovan\n",
    "for i in range(100000):\n",
    "    k = rnd.randint(1,6)\n",
    "    if k == 1:\n",
    "        kast[\"1\"] += 1\n",
    "    elif k == 2:\n",
    "        kast[\"2\"] += 1\n",
    "    elif k == 3:\n",
    "        kast[\"3\"] += 1\n",
    "    elif k == 4:\n",
    "        kast[\"4\"] += 1\n",
    "    elif k == 5:\n",
    "        kast[\"5\"] += 1\n",
    "    else:\n",
    "        kast[\"6\"] += 1\n",
    "\n",
    "# printar ut alla kasten\n",
    "print(\"Frekvenstabell\")\n",
    "for key in kast:\n",
    "    print(f\"{key}:  {kast[key]}\")"
   ]
  },
  {
   "source": [
    "# 3.\n",
    "- Läs in filen \"pokemonlista.txt\" i Python. Skapa en variabel pokedex som är en dictionary med key:value-paren \"pokemon\":\"typ, index\""
   ],
   "cell_type": "markdown",
   "metadata": {}
  },
  {
   "cell_type": "code",
   "execution_count": 8,
   "metadata": {
    "tags": []
   },
   "outputs": [
    {
     "output_type": "stream",
     "name": "stdout",
     "text": [
      "Type: Normal, Index: 493\n"
     ]
    }
   ],
   "source": [
    "with open(\"pokemonlista.txt\", \"r\") as pl:\n",
    "    pokedex = {}\n",
    "    for rad in pl:\n",
    "        x = rad.split()\n",
    "        pokedex[x[1]] = f\"Type: {x[2]}, Index: {x[0]}\"\n",
    "svar = input(\"Du kan söka upp en pokemon från generation 1-4\")\n",
    "print(f\"{pokedex[svar]}\")"
   ]
  }
 ]
}