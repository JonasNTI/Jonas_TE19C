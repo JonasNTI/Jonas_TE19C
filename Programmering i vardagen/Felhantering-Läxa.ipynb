{
 "metadata": {
  "language_info": {
   "codemirror_mode": {
    "name": "ipython",
    "version": 3
   },
   "file_extension": ".py",
   "mimetype": "text/x-python",
   "name": "python",
   "nbconvert_exporter": "python",
   "pygments_lexer": "ipython3",
   "version": "3.8.3-final"
  },
  "orig_nbformat": 2,
  "kernelspec": {
   "name": "python3",
   "display_name": "Python 3",
   "language": "python"
  }
 },
 "nbformat": 4,
 "nbformat_minor": 2,
 "cells": [
  {
   "source": [
    "#       1\n",
    "+ Finn felen och rätta dem för att beräkna avståndet mellan punkterna (x,y) och origo i ett kartesiskt koordinatsystem. Notera att det inte enbart är syntaxfel."
   ],
   "cell_type": "markdown",
   "metadata": {}
  },
  {
   "cell_type": "code",
   "execution_count": 8,
   "metadata": {},
   "outputs": [
    {
     "output_type": "stream",
     "name": "stdout",
     "text": [
      "0.7071067811865476\n"
     ]
    }
   ],
   "source": [
    "import numpy as np\n",
    "\n",
    "def distance(x,y):\n",
    "    return np.sqrt(x**2+y**2)\n",
    "\n",
    "print(distance(0.5,0.5))"
   ]
  },
  {
   "source": [
    "# 2\n",
    "+ Finn felen och rätta dem. Ändra endast funnktionen, rör inte testprogrammet."
   ],
   "cell_type": "markdown",
   "metadata": {}
  },
  {
   "cell_type": "code",
   "execution_count": 2,
   "metadata": {},
   "outputs": [
    {
     "output_type": "stream",
     "name": "stdout",
     "text": [
      "100 är inte fyrsiffrigt\n231 är inte fyrsiffrigt\n10000 är inte fyrsiffrigt\n10001 är inte fyrsiffrigt\n-1000 är fyrsiffrigt\n102313 är inte fyrsiffrigt\n"
     ]
    }
   ],
   "source": [
    "def ar_fyrsiffrigt(tal):\n",
    "    if tal//1000 == 1 or tal//1000 == -1 :\n",
    "        return True\n",
    "    else:\n",
    "        return False\n",
    "\n",
    "# testprogram\n",
    "testtal = [100, 231, 10000, 10001, 1000, 102313]\n",
    "\n",
    "for t in testtal:\n",
    "    if ar_fyrsiffrigt(t):\n",
    "        print(f\"{t} är fyrsiffrigt\")\n",
    "    else:\n",
    "        print(f\"{t} är inte fyrsiffrigt\")"
   ]
  },
  {
   "cell_type": "code",
   "execution_count": 5,
   "metadata": {},
   "outputs": [
    {
     "output_type": "stream",
     "name": "stdout",
     "text": [
      "Största talet är:  95 \nMinsta talet är:  19 \nMedianen är:  61 \nMedelvärdet är:  56.8\n"
     ]
    }
   ],
   "source": [
    "# Uppg. 4\n",
    "while True:\n",
    "    try:\n",
    "        tal_str = input(\"Skriv 5 heltal med mellanrum emellan\")\n",
    "        lista_str = tal_str.split()\n",
    "        assert len(lista_str) == 5, \"Du ska skriva 5 stycken heltal\"\n",
    "        break\n",
    "    except AssertionError as msg:\n",
    "        print(msg)\n",
    "                                    # Lyckas inte göra så man inte kan använda bokstäver :/\n",
    "lista_str.sort()\n",
    "median = lista_str[2]\n",
    "storst = max(lista_str)\n",
    "minst = min(lista_str)\n",
    "\n",
    "def medelvärde(lista_str):\n",
    "    medel = 0\n",
    "    for i in lista_str:\n",
    "        i = int(i)\n",
    "        medel += i\n",
    "    return medel / 5\n",
    "\n",
    "print(\"Största talet är: \", storst,\"\\nMinsta talet är: \", minst,\"\\nMedianen är: \", median,\"\\nMedelvärdet är: \", medelvärde(lista_str))"
   ]
  },
  {
   "cell_type": "code",
   "execution_count": null,
   "metadata": {},
   "outputs": [],
   "source": []
  }
 ]
}