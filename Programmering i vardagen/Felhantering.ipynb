{
 "metadata": {
  "language_info": {
   "codemirror_mode": {
    "name": "ipython",
    "version": 3
   },
   "file_extension": ".py",
   "mimetype": "text/x-python",
   "name": "python",
   "nbconvert_exporter": "python",
   "pygments_lexer": "ipython3",
   "version": "3.8.3-final"
  },
  "orig_nbformat": 2,
  "kernelspec": {
   "name": "python3",
   "display_name": "Python 3",
   "language": "python"
  }
 },
 "nbformat": 4,
 "nbformat_minor": 2,
 "cells": [
  {
   "cell_type": "code",
   "execution_count": null,
   "metadata": {},
   "outputs": [],
   "source": [
    "# Felhantering\n",
    "- syntaxfel - språkregler följs inte, hittas när programmet"
   ]
  },
  {
   "cell_type": "code",
   "execution_count": null,
   "metadata": {},
   "outputs": [],
   "source": [
    "while True:\n",
    "    try:\n",
    "        ålder = float(input(\"Hur gammal är du?\"))\n",
    "        # detta löser ett logiskt fel - genom generera felsignal\n",
    "        assert ålder >= 0 and ålser < 125, \"Din ålder ska vara mellan 0 och 124\""
   ]
  },
  {
   "cell_type": "code",
   "execution_count": 4,
   "metadata": {},
   "outputs": [
    {
     "output_type": "stream",
     "name": "stdout",
     "text": [
      "[32.0, 31.0]\n"
     ]
    }
   ],
   "source": [
    "# låt användaren mata in ett antal tal\n",
    "# skriv ut största talet\n",
    "# skriv ut minsta talet\n",
    "\n",
    "tal_str = input(\"Skriv in ett antal tal med mellanrum emellan: \")\n",
    "lista_str = tal_str.split() # split ger os en lista, splitar där vi har mellanslag\n",
    "\n",
    "# här kan man lägga in while-sats för att fråga användaren igen\n",
    "try:\n",
    "    # lista av flyttal\n",
    "    tal_lista = [float(x) for x in lista_str]\n",
    "    \n",
    "    störst = max(tal_lista)\n",
    "    minst = min(tal_lista)\n",
    "except:\n",
    "    print(\"Felaktiga tal\")\n",
    "\n",
    "print(tal_lista)"
   ]
  }
 ]
}