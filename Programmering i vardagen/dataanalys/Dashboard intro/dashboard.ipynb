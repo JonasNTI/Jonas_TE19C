{
 "metadata": {
  "language_info": {
   "codemirror_mode": {
    "name": "ipython",
    "version": 3
   },
   "file_extension": ".py",
   "mimetype": "text/x-python",
   "name": "python",
   "nbconvert_exporter": "python",
   "pygments_lexer": "ipython3",
   "version": "3.8.3"
  },
  "orig_nbformat": 2,
  "kernelspec": {
   "name": "python383jvsc74a57bd0f1fcf5cd886bc13cad95da124fe07c4e12a9bce74f54c874c9e247e7e6eef8ec",
   "display_name": "Python 3.8.3 64-bit (conda)"
  }
 },
 "nbformat": 4,
 "nbformat_minor": 2,
 "cells": [
  {
   "cell_type": "code",
   "execution_count": 2,
   "metadata": {},
   "outputs": [
    {
     "output_type": "error",
     "ename": "SyntaxError",
     "evalue": "invalid syntax (<ipython-input-2-41d1cab96709>, line 23)",
     "traceback": [
      "\u001b[1;36m  File \u001b[1;32m\"<ipython-input-2-41d1cab96709>\"\u001b[1;36m, line \u001b[1;32m23\u001b[0m\n\u001b[1;33m    dcc.Dropdown(\u001b[0m\n\u001b[1;37m    ^\u001b[0m\n\u001b[1;31mSyntaxError\u001b[0m\u001b[1;31m:\u001b[0m invalid syntax\n"
     ]
    }
   ],
   "source": [
    "import plotly.express as px\n",
    "import dash\n",
    "import dash_core_components as dcc\n",
    "import dash_html_components as HTML\n",
    "import pandas as pd\n",
    "import numpy as np\n",
    "from dash.dependencies import Input, Output\n",
    "\n",
    "app = dash.Dash(__name__)\n",
    "\n",
    "TE19 = np.random.randint(70,100,35)\n",
    "NA19 = np.random.randint(30,100,35)\n",
    "\n",
    "de_TE19 = pd.DataFrame({\"Närvaro\":TE19})\n",
    "de_NA19 = pd.DataFrame({\"Närvaro\":NA19})\n",
    "\n",
    "# skapa fig\n",
    "fig = px.bar(df_TE19, y=\"Närvaro\", title=\"Närvarograd i procent\")\n",
    "\n",
    "app.layout = HTML.Div(children=[\n",
    "    HTML.H1(childern = \"Närvarograd för olika klasser\")\n",
    "\n",
    "    dcc.Dropdown(\n",
    "        id = \"drop\",\n",
    "        options = [dict(label = \"TE19\", value=\"TE19\"), dict(label = \"NA19\", value=\"NA19\")],\n",
    "        value=\"TE19\"\n",
    "    ),\n",
    "\n",
    "    dcc.Graph(\n",
    "        id = \"graph\",\n",
    "        figure = fig\n",
    "    )\n",
    "\n",
    "])\n",
    "\n",
    "\n",
    "@app.callback(\n",
    "    Output(\"graph\", \"figure\"),\n",
    "    [Input(\"drop\", \"value\")]\n",
    ")\n",
    "def update_figure(value):\n",
    "    if value == \"Te19\": df = df_TE19\n",
    "    elif value == \"NA19\": df = df_NA19\n",
    "\n",
    "    fig = px.bar(df, y=\"Närvaro\", title=f\"Närvarograd för klass {value}\")\n",
    "    fig.update_layout(transition_duration=500)\n",
    "    return fig\n",
    "\n",
    "\n",
    "if __name__ == \"__main__\":\n",
    "    app.run_server(debug = True)\n",
    "\n",
    "\n",
    "\n",
    "\n"
   ]
  }
 ]
}