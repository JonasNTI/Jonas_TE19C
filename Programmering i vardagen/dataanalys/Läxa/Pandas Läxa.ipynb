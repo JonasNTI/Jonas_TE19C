{
 "metadata": {
  "language_info": {
   "codemirror_mode": {
    "name": "ipython",
    "version": 3
   },
   "file_extension": ".py",
   "mimetype": "text/x-python",
   "name": "python",
   "nbconvert_exporter": "python",
   "pygments_lexer": "ipython3",
   "version": "3.8.3"
  },
  "orig_nbformat": 2,
  "kernelspec": {
   "name": "python3",
   "display_name": "Python 3.8.3 64-bit ('base': conda)",
   "metadata": {
    "interpreter": {
     "hash": "f1fcf5cd886bc13cad95da124fe07c4e12a9bce74f54c874c9e247e7e6eef8ec"
    }
   }
  }
 },
 "nbformat": 4,
 "nbformat_minor": 2,
 "cells": [
  {
   "source": [
    "## 1. Läs in filen \"sysselsattning.csv\" med hjälp av Pandas och besvara följande frågor:\n",
    "- (a) Hur många personer i åldern 16-44 år förvärvsarbetade i Sverige år 2019?\n",
    "- (b) Hur många personer i åldern 16-44 år förvärvsarbetade inte i Sverige år 2019?\n",
    "- (c) Gör ett tårtdiagram som visar andelen förvärvsarbetande och ej förvärvsarbetande år 2019.\n",
    "+ Tips: använd pandas read_csv(\"sysselsattning\", encoding=\"ISO-8859-1\", header=1)"
   ],
   "cell_type": "markdown",
   "metadata": {}
  },
  {
   "cell_type": "code",
   "execution_count": 70,
   "metadata": {},
   "outputs": [
    {
     "output_type": "execute_result",
     "data": {
      "text/plain": [
       "2706467"
      ]
     },
     "metadata": {},
     "execution_count": 70
    }
   ],
   "source": [
    "# (a)\n",
    "import pandas as pd\n",
    "\n",
    "df = pd.read_csv(\"sysselsattning.csv\", header=2)\n",
    "df_F = df[df[\"sysselsättning\"] == \"förvärvsarbetande\"]\n",
    "df_F[\"2019\"].sum()"
   ]
  },
  {
   "cell_type": "code",
   "execution_count": 75,
   "metadata": {},
   "outputs": [
    {
     "output_type": "execute_result",
     "data": {
      "text/plain": [
       "1070645"
      ]
     },
     "metadata": {},
     "execution_count": 75
    }
   ],
   "source": [
    "# (b)\n",
    "\n",
    "df_EF = df[df[\"sysselsättning\"] == \"ej förvärvsarbetande\"]\n",
    "df_EF[\"2019\"].sum()"
   ]
  },
  {
   "cell_type": "code",
   "execution_count": null,
   "metadata": {},
   "outputs": [],
   "source": [
    "# (c)\n"
   ]
  }
 ]
}