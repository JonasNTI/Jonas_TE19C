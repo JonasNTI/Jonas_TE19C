{
 "metadata": {
  "language_info": {
   "codemirror_mode": {
    "name": "ipython",
    "version": 3
   },
   "file_extension": ".py",
   "mimetype": "text/x-python",
   "name": "python",
   "nbconvert_exporter": "python",
   "pygments_lexer": "ipython3",
   "version": "3.8.3-final"
  },
  "orig_nbformat": 2,
  "kernelspec": {
   "name": "python3",
   "display_name": "Python 3.8.3 64-bit (conda)",
   "metadata": {
    "interpreter": {
     "hash": "f1fcf5cd886bc13cad95da124fe07c4e12a9bce74f54c874c9e247e7e6eef8ec"
    }
   }
  }
 },
 "nbformat": 4,
 "nbformat_minor": 2,
 "cells": [
  {
   "source": [
    "# 1.\n",
    "\n",
    "- I den här uppgiften ska du skapa en textfil vid namn diceRoll.txt från Python. Skriv lämpliga rubriker till varje deluppgift i textfilen."
   ],
   "cell_type": "markdown",
   "metadata": {}
  },
  {
   "cell_type": "code",
   "execution_count": 44,
   "metadata": {},
   "outputs": [
    {
     "output_type": "stream",
     "name": "stdout",
     "text": [
      "[11, 3, 9, 10, 3, 2, 2, 7, 5, 4]\n"
     ]
    }
   ],
   "source": [
    "# (a) Simulera 10 tärningskast och skriv dem till diceRoll.txt\n",
    "import random as rnd\n",
    "\n",
    "kast = []\n",
    "for i in range(10):\n",
    "    kast.append(rnd.randint(1,11))\n",
    "print(kast)\n",
    "\n",
    "with open(\"diceRoll.txt\", \"w\") as f:\n",
    "    f.write(f\"10 simulerade tarningskast: {kast}\")\n",
    "\n",
    "# (b) Sortera tärningskasten från (a) och skriv ut dem på separat rad i diceRoll.txt\n",
    "kast.sort()\n",
    "\n",
    "with open(\"diceRoll.txt\", \"a\") as f1:\n",
    "    f1.write(f\"\\nKasten sorterade: {kast}\")\n",
    "\n",
    "# (c) Räkna antalet femmor i kasten och skriv ut på separat rad i diceRoll.txt\n",
    "\n",
    "femmor = 0\n",
    "\n",
    "for i in kast:\n",
    "    if i == 5:\n",
    "        femmor += 1\n",
    "    \n",
    "with open(\"diceRoll.txt\", \"a\") as f2:\n",
    "    f2.write(f\"\\nAntalet femmor: {femmor}\")"
   ]
  },
  {
   "source": [
    "# 2.\n",
    "- Läs in filen \"Provsesultat.txt\" i Python."
   ],
   "cell_type": "markdown",
   "metadata": {}
  },
  {
   "cell_type": "code",
   "execution_count": 46,
   "metadata": {},
   "outputs": [
    {
     "output_type": "stream",
     "name": "stdout",
     "text": [
      "Adam Gustafsson 25\nEmil Johansson 23\nSven Erik Karlsson 13\nOve Karlsten 41\nEmma Boden 32\nIda HÃ¥kansson 23\nElla Ester 41\nHanna Karlsson 23 \nJohan Johansson 42\nSven Erik Lundin 39\nBjÃ¶rn BjÃ¶rnsson 39\nKarl Karlsson 32\nBose Bosseson 32\nHÃ¥kan HÃ¥kanson 24\nJonas Jonasson 31\nErik Eriksson 31\nGore Bord 55\nJakob Kallander 65\nFredrika Ulven 10"
     ]
    }
   ],
   "source": [
    "# (a) Läs in filen, printa ut texten i terminalen.\n",
    "\n",
    "with open(\"Provresultat.txt\", \"r\") as f:\n",
    "    for rad in f:\n",
    "        print(rad, end=\"\")"
   ]
  },
  {
   "cell_type": "code",
   "execution_count": 39,
   "metadata": {},
   "outputs": [],
   "source": [
    "# (b) Skapa nya rader i samma fil och skriv personerna och deras resultat i alfabetisk ordning där.\n",
    "\n",
    "alfordning = []\n",
    "\n",
    "with open(\"Provresultat.txt\", \"r\") as f1:\n",
    "    for rad in f1:\n",
    "        rad.split()\n",
    "        alfordning.append(rad)\n",
    "        alfordning.sort()\n",
    "\n",
    "with open(\"Provresultat.txt\", \"a\") as f2:\n",
    "    f2.write(\"\\n\\n\\n\")\n",
    "    for n in alfordning:\n",
    "        n.strip(\"\\n\")\n",
    "        f2.write(f\"{n}\")"
   ]
  },
  {
   "cell_type": "code",
   "execution_count": 80,
   "metadata": {},
   "outputs": [
    {
     "output_type": "stream",
     "name": "stdout",
     "text": [
      "Adam Gustafsson 25(F)\nEmil Johansson 23(F)\nSven Erik Karlsson 13(F)\nOve Karlsten 41(F)\nEmma Boden 32(F)\nIda HÃ¥kansson 23(F)\nElla Ester 41(F)\nHanna Karlsson 23 (E)\n\nJohan Johansson 42(F)\nSven Erik Lundin 39(F)\nBjÃ¶rn BjÃ¶rnsson 39(F)\nKarl Karlsson 32(F)\nBose Bosseson 32(F)\nHÃ¥kan HÃ¥kanson 24(F)\nJonas Jonasson 31(F)\nErik Eriksson 31(F)\nGore Bord 55(F)\nJakob Kallander 65(F)\nFredrika Ulven 10(F)\n"
     ]
    }
   ],
   "source": [
    "# (c) Skapa ytterligare nya rader i samma fil och sortera personerna efter betyg. Betygsgränserna är: F < 20, E: 20-29, D: 30-39, C: 40-49, B: 50-59, A: 60-70\n",
    "\n",
    "with open(\"Provresultat.txt\", \"r\") as f1:\n",
    "    for rad in f1:\n",
    "        rad = rad.strip(\" \\n\")\n",
    "        poang = int(rad[-3:-1])\n",
    "        if poang < 20: print(f\"{rad}(F)\")\n",
    "        elif 20 < poang < 29: print(f\"{rad}(E)\\n\")\n",
    "        elif 30 < poang < 39: print(f\"{rad}(D)\\n\")\n",
    "        elif 40 < poang < 49: print(f\"{rad}(C)\\n\")\n",
    "        elif 50 < poang < 59: print(f\"{rad}(B)\\n\")\n",
    "        elif 60 < poang < 70: print(f\"{rad}(A)\\n\")"
   ]
  },
  {
   "source": [
    "# 3.\n",
    "+ Läs in filerna \"NPvt19Ma2A.txt\" och \"NPvt19Ma2C.txt\" och rita cirkeldiagram för varje betygskategori för respektive fil. Använd: matplotlib pie chart och subplot."
   ],
   "cell_type": "markdown",
   "metadata": {}
  },
  {
   "cell_type": "code",
   "execution_count": null,
   "metadata": {},
   "outputs": [],
   "source": [
    "import matplotlib.pyplot as plt\n",
    "\n",
    "ABetyg = 'A','B','C','D','E','F'\n",
    "AProcent = []\n",
    "\n"
   ]
  }
 ]
}