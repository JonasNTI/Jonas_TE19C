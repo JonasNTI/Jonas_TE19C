{
 "metadata": {
  "language_info": {
   "codemirror_mode": {
    "name": "ipython",
    "version": 3
   },
   "file_extension": ".py",
   "mimetype": "text/x-python",
   "name": "python",
   "nbconvert_exporter": "python",
   "pygments_lexer": "ipython3",
   "version": "3.8.3-final"
  },
  "orig_nbformat": 2,
  "kernelspec": {
   "name": "python3",
   "display_name": "Python 3.8.3 64-bit (conda)",
   "metadata": {
    "interpreter": {
     "hash": "f1fcf5cd886bc13cad95da124fe07c4e12a9bce74f54c874c9e247e7e6eef8ec"
    }
   }
  }
 },
 "nbformat": 4,
 "nbformat_minor": 2,
 "cells": [
  {
   "source": [
    "# 1.\n",
    "\n",
    "- I den här uppgiften ska du skapa en textfil vid namn diceRoll.txt från Python. Skriv lämpliga rubriker till varje deluppgift i textfilen."
   ],
   "cell_type": "markdown",
   "metadata": {}
  },
  {
   "cell_type": "code",
   "execution_count": 3,
   "metadata": {},
   "outputs": [
    {
     "output_type": "stream",
     "name": "stdout",
     "text": [
      "[9, 7, 4, 8, 9, 5, 2, 1, 4, 3]\n[1, 2, 3, 4, 4, 5, 7, 8, 9, 9]\nAntal femmor: 1\n"
     ]
    }
   ],
   "source": [
    "# (a) Simulera 10 tärningskast och skriv dem till diceRoll.txt\n",
    "import random as rnd\n",
    "\n",
    "kast = []\n",
    "for i in range(10):\n",
    "    kast.append(rnd.randint(1,11))\n",
    "print(kast)\n",
    "\n",
    "with open(\"diceRoll.txt\", \"w\") as f:\n",
    "    f.write(f\"10 simulerade tarningskast: {kast}\")\n",
    "\n",
    "# (b) Sortera tärningskasten från (a) och skriv ut dem på separat rad i diceRoll.txt\n",
    "kast.sort()\n",
    "print(kast)\n",
    "\n",
    "with open(\"diceRoll.txt\", \"a\") as f1:\n",
    "    f1.write(f\"\\nKasten sorterade: {kast}\")\n",
    "\n",
    "# (c) Räkna antalet femmor i kasten och skriv ut på separat rad i diceRoll.txt\n",
    "\n",
    "femmor = 0\n",
    "\n",
    "for i in kast:\n",
    "    if i == 5:\n",
    "        femmor += 1\n",
    "print(f\"Antal femmor: {femmor}\")\n",
    "\n",
    "with open(\"diceRoll.txt\", \"a\") as f2:\n",
    "    f2.write(f\"\\nAntalet femmor: {femmor}\")"
   ]
  },
  {
   "source": [
    "# 2.\n",
    "- Läs in filen \"Provsesultat.txt\" i Python."
   ],
   "cell_type": "markdown",
   "metadata": {}
  },
  {
   "cell_type": "code",
   "execution_count": 46,
   "metadata": {},
   "outputs": [
    {
     "output_type": "stream",
     "name": "stdout",
     "text": [
      "Adam Gustafsson 25\nEmil Johansson 23\nSven Erik Karlsson 13\nOve Karlsten 41\nEmma Boden 32\nIda HÃ¥kansson 23\nElla Ester 41\nHanna Karlsson 23 \nJohan Johansson 42\nSven Erik Lundin 39\nBjÃ¶rn BjÃ¶rnsson 39\nKarl Karlsson 32\nBose Bosseson 32\nHÃ¥kan HÃ¥kanson 24\nJonas Jonasson 31\nErik Eriksson 31\nGore Bord 55\nJakob Kallander 65\nFredrika Ulven 10"
     ]
    }
   ],
   "source": [
    "# (a) Läs in filen, printa ut texten i terminalen.\n",
    "\n",
    "with open(\"Provresultat.txt\", \"r\") as f:\n",
    "    for rad in f:\n",
    "        print(rad, end=\"\")"
   ]
  },
  {
   "cell_type": "code",
   "execution_count": 7,
   "metadata": {},
   "outputs": [
    {
     "output_type": "stream",
     "name": "stdout",
     "text": [
      "Adam Gustafsson 25\n\nBjÃ¶rn BjÃ¶rnsson 39\n\nBose Bosseson 32\n\nElla Ester 41\n\nEmil Johansson 23\n\nEmma Boden 32\n\nErik Eriksson 31\n\nFredrika Ulven 10\n\nGore Bord 55\n\nHanna Karlsson 23 \n\nHÃ¥kan HÃ¥kanson 24\n\nIda HÃ¥kansson 23\n\nJakob Kallander 65\n\nJohan Johansson 42\n\nJonas Jonasson 31\n\nKarl Karlsson 32\n\nOve Karlsten 41\n\nSven Erik Karlsson 13\n\nSven Erik Lundin 39\n\n"
     ]
    }
   ],
   "source": [
    "# (b) Skapa nya rader i samma fil och skriv personerna och deras resultat i alfabetisk ordning där.\n",
    "\n",
    "alfordning = []\n",
    "\n",
    "with open(\"Provresultat.txt\", \"r\") as f1:\n",
    "    for rad in f1:\n",
    "        rad.split()\n",
    "        alfordning.append(rad)\n",
    "        alfordning.sort()\n",
    "\n",
    "with open(\"Provresultat.txt\", \"a\") as f2:\n",
    "    f2.write(\"\\n\\n\\n\")\n",
    "    for n in alfordning:\n",
    "        n.strip(\" \\n\")\n",
    "        f2.write(f\"{n}\")\n",
    "        print(n)"
   ]
  },
  {
   "cell_type": "code",
   "execution_count": 32,
   "metadata": {},
   "outputs": [
    {
     "output_type": "error",
     "ename": "ValueError",
     "evalue": "invalid literal for int() with base 10: ''",
     "traceback": [
      "\u001b[1;31m---------------------------------------------------------------------------\u001b[0m",
      "\u001b[1;31mValueError\u001b[0m                                Traceback (most recent call last)",
      "\u001b[1;32m<ipython-input-32-c66bf9d7318d>\u001b[0m in \u001b[0;36m<module>\u001b[1;34m\u001b[0m\n\u001b[0;32m      6\u001b[0m     \u001b[1;32mfor\u001b[0m \u001b[0mrad\u001b[0m \u001b[1;32min\u001b[0m \u001b[0mf1\u001b[0m\u001b[1;33m:\u001b[0m\u001b[1;33m\u001b[0m\u001b[1;33m\u001b[0m\u001b[0m\n\u001b[0;32m      7\u001b[0m         \u001b[0mrad\u001b[0m\u001b[1;33m.\u001b[0m\u001b[0mstrip\u001b[0m\u001b[1;33m(\u001b[0m\u001b[1;34m\" \\n\"\u001b[0m\u001b[1;33m)\u001b[0m\u001b[1;33m\u001b[0m\u001b[1;33m\u001b[0m\u001b[0m\n\u001b[1;32m----> 8\u001b[1;33m         \u001b[0mpoang\u001b[0m \u001b[1;33m=\u001b[0m \u001b[0mint\u001b[0m\u001b[1;33m(\u001b[0m\u001b[0mrad\u001b[0m\u001b[1;33m[\u001b[0m\u001b[1;33m-\u001b[0m\u001b[1;36m3\u001b[0m\u001b[1;33m:\u001b[0m\u001b[1;33m-\u001b[0m\u001b[1;36m1\u001b[0m\u001b[1;33m]\u001b[0m\u001b[1;33m)\u001b[0m\u001b[1;33m\u001b[0m\u001b[1;33m\u001b[0m\u001b[0m\n\u001b[0m\u001b[0;32m      9\u001b[0m \u001b[1;33m\u001b[0m\u001b[0m\n\u001b[0;32m     10\u001b[0m         \u001b[0mbetygspoang\u001b[0m\u001b[1;33m.\u001b[0m\u001b[0mappend\u001b[0m\u001b[1;33m(\u001b[0m\u001b[0mpoang\u001b[0m\u001b[1;33m)\u001b[0m\u001b[1;33m\u001b[0m\u001b[1;33m\u001b[0m\u001b[0m\n",
      "\u001b[1;31mValueError\u001b[0m: invalid literal for int() with base 10: ''"
     ]
    }
   ],
   "source": [
    "# (c) Skapa ytterligare nya rader i samma fil och sortera personerna efter betyg. Betygsgränserna är: F < 20, E: 20-29, D: 30-39, C: 40-49, B: 50-59, A: 60-70\n",
    "\n",
    "betygspoang = []\n",
    "poang = \"\"\n",
    "\n",
    "with open(\"Provresultat.txt\", \"r\") as f1:\n",
    "    for rad in f1:\n",
    "        rad.strip(\" \\n\")\n",
    "        poang = int(rad[-3:-1])\n",
    "\n",
    "        betygspoang.append(poang)\n",
    "    betygspoang.sort()\n",
    "    for n in betygspoang:\n",
    "        if n < 20: print(f\"(F) {rad}\", end=\"\")\n",
    "        elif n < 29: print(f\"(E) {rad}\", end=\"\")\n",
    "        elif n < 39: print(f\"(D) {rad}\", end=\"\")\n",
    "        elif n < 49: print(f\"(C) {rad}\", end=\"\")\n",
    "        elif n < 59: print(f\"(B) {rad}\", end=\"\")\n",
    "        elif n < 70: print(f\"(A) {rad}\", end=\"\")"
   ]
  },
  {
   "source": [
    "# 3.\n",
    "+ Läs in filerna \"NPvt19Ma2A.txt\" och \"NPvt19Ma2C.txt\" och rita cirkeldiagram för varje betygskategori för respektive fil. Använd: matplotlib pie chart och subplot."
   ],
   "cell_type": "markdown",
   "metadata": {}
  },
  {
   "cell_type": "code",
   "execution_count": null,
   "metadata": {},
   "outputs": [],
   "source": [
    "import matplotlib.pyplot as plt\n",
    "\n",
    "ABetyg = 'A','B','C','D','E','F'\n",
    "AProcent = []\n",
    "\n"
   ]
  }
 ]
}