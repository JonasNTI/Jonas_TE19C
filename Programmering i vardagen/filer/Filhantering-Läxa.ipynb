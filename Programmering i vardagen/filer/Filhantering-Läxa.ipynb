{
 "metadata": {
  "language_info": {
   "codemirror_mode": {
    "name": "ipython",
    "version": 3
   },
   "file_extension": ".py",
   "mimetype": "text/x-python",
   "name": "python",
   "nbconvert_exporter": "python",
   "pygments_lexer": "ipython3",
   "version": "3.8.3-final"
  },
  "orig_nbformat": 2,
  "kernelspec": {
   "name": "python3",
   "display_name": "Python 3.8.3 64-bit (conda)",
   "metadata": {
    "interpreter": {
     "hash": "f1fcf5cd886bc13cad95da124fe07c4e12a9bce74f54c874c9e247e7e6eef8ec"
    }
   }
  }
 },
 "nbformat": 4,
 "nbformat_minor": 2,
 "cells": [
  {
   "source": [
    "# 1.\n",
    "\n",
    "- I den här uppgiften ska du skapa en textfil vid namn diceRoll.txt från Python. Skriv lämpliga rubriker till varje deluppgift i textfilen."
   ],
   "cell_type": "markdown",
   "metadata": {}
  },
  {
   "cell_type": "code",
   "execution_count": 44,
   "metadata": {},
   "outputs": [
    {
     "output_type": "stream",
     "name": "stdout",
     "text": [
      "[11, 3, 9, 10, 3, 2, 2, 7, 5, 4]\n"
     ]
    }
   ],
   "source": [
    "# (a) Simulera 10 tärningskast och skriv dem till diceRoll.txt\n",
    "import random as rnd\n",
    "\n",
    "kast = []\n",
    "for i in range(10):\n",
    "    kast.append(rnd.randint(1,11))\n",
    "print(kast)\n",
    "\n",
    "with open(\"diceRoll.txt\", \"w\") as f:\n",
    "    f.write(f\"10 simulerade tarningskast: {kast}\")\n",
    "\n",
    "# (b) Sortera tärningskasten från (a) och skriv ut dem på separat rad i diceRoll.txt\n",
    "kast.sort()\n",
    "\n",
    "with open(\"diceRoll.txt\", \"a\") as f1:\n",
    "    f1.write(f\"\\nKasten sorterade: {kast}\")\n",
    "\n",
    "# (c) Räkna antalet femmor i kasten och skriv ut på separat rad i diceRoll.txt\n",
    "\n",
    "femmor = 0\n",
    "\n",
    "for i in kast:\n",
    "    if i == 5:\n",
    "        femmor += 1\n",
    "    \n",
    "with open(\"diceRoll.txt\", \"a\") as f2:\n",
    "    f2.write(f\"\\nAntalet femmor: {femmor}\")"
   ]
  },
  {
   "source": [
    "# 2.\n",
    "- Läs in filen \"Provsesultat.txt\" i Python."
   ],
   "cell_type": "markdown",
   "metadata": {}
  },
  {
   "cell_type": "code",
   "execution_count": 46,
   "metadata": {},
   "outputs": [
    {
     "output_type": "stream",
     "name": "stdout",
     "text": [
      "Adam Gustafsson 25\nEmil Johansson 23\nSven Erik Karlsson 13\nOve Karlsten 41\nEmma Boden 32\nIda HÃ¥kansson 23\nElla Ester 41\nHanna Karlsson 23 \nJohan Johansson 42\nSven Erik Lundin 39\nBjÃ¶rn BjÃ¶rnsson 39\nKarl Karlsson 32\nBose Bosseson 32\nHÃ¥kan HÃ¥kanson 24\nJonas Jonasson 31\nErik Eriksson 31\nGore Bord 55\nJakob Kallander 65\nFredrika Ulven 10"
     ]
    }
   ],
   "source": [
    "# (a) Läs in filen, printa ut texten i terminalen.\n",
    "\n",
    "with open(\"Provresultat.txt\", \"r\") as f:\n",
    "    for rad in f:\n",
    "        print(rad, end=\"\")"
   ]
  },
  {
   "cell_type": "code",
   "execution_count": 29,
   "metadata": {},
   "outputs": [
    {
     "output_type": "error",
     "ename": "ValueError",
     "evalue": "I/O operation on closed file.",
     "traceback": [
      "\u001b[1;31m---------------------------------------------------------------------------\u001b[0m",
      "\u001b[1;31mValueError\u001b[0m                                Traceback (most recent call last)",
      "\u001b[1;32m<ipython-input-29-e90fda31c5e0>\u001b[0m in \u001b[0;36m<module>\u001b[1;34m\u001b[0m\n\u001b[0;32m     10\u001b[0m \u001b[1;33m\u001b[0m\u001b[0m\n\u001b[0;32m     11\u001b[0m \u001b[1;32mwith\u001b[0m \u001b[0mopen\u001b[0m\u001b[1;33m(\u001b[0m\u001b[1;34m\"Provresultat.txt\"\u001b[0m\u001b[1;33m,\u001b[0m \u001b[1;34m\"a\"\u001b[0m\u001b[1;33m)\u001b[0m \u001b[1;32mas\u001b[0m \u001b[0mf2\u001b[0m\u001b[1;33m:\u001b[0m\u001b[1;33m\u001b[0m\u001b[1;33m\u001b[0m\u001b[0m\n\u001b[1;32m---> 12\u001b[1;33m     \u001b[0mf\u001b[0m\u001b[1;33m.\u001b[0m\u001b[0mwrite\u001b[0m\u001b[1;33m(\u001b[0m\u001b[1;34m\"\\n\\n\\n\"\u001b[0m\u001b[1;33m)\u001b[0m\u001b[1;33m\u001b[0m\u001b[1;33m\u001b[0m\u001b[0m\n\u001b[0m\u001b[0;32m     13\u001b[0m     \u001b[1;32mfor\u001b[0m \u001b[0mn\u001b[0m \u001b[1;32min\u001b[0m \u001b[0malfordning\u001b[0m\u001b[1;33m:\u001b[0m\u001b[1;33m\u001b[0m\u001b[1;33m\u001b[0m\u001b[0m\n\u001b[0;32m     14\u001b[0m         \u001b[0mf\u001b[0m\u001b[1;33m.\u001b[0m\u001b[0mwrite\u001b[0m\u001b[1;33m(\u001b[0m\u001b[1;34mf\"\\nTest: {n}\"\u001b[0m\u001b[1;33m)\u001b[0m\u001b[1;33m\u001b[0m\u001b[1;33m\u001b[0m\u001b[0m\n",
      "\u001b[1;31mValueError\u001b[0m: I/O operation on closed file."
     ]
    }
   ],
   "source": [
    "# (b) Skapa nya rader i samma fil och skriv personerna och deras resultat i alfabetisk ordning där.\n",
    "\n",
    "alfordning = []\n",
    "\n",
    "with open(\"Provresultat.txt\", \"r\") as f1:\n",
    "    for rad in f1:\n",
    "        rad.split()\n",
    "        alfordning.append(rad)\n",
    "        alfordning.sort()\n",
    "\n",
    "with open(\"Provresultat.txt\", \"a\") as f2:\n",
    "    for n in alfordning:\n",
    "        f.write(f\"\\nTest: {n}\")"
   ]
  }
 ]
}