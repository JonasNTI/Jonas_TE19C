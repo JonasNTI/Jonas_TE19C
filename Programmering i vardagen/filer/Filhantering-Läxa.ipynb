{
 "metadata": {
  "language_info": {
   "codemirror_mode": {
    "name": "ipython",
    "version": 3
   },
   "file_extension": ".py",
   "mimetype": "text/x-python",
   "name": "python",
   "nbconvert_exporter": "python",
   "pygments_lexer": "ipython3",
   "version": "3.8.3-final"
  },
  "orig_nbformat": 2,
  "kernelspec": {
   "name": "python3",
   "display_name": "Python 3.8.3 64-bit ('jonas.olanders': virtualenv)",
   "metadata": {
    "interpreter": {
     "hash": "f1fcf5cd886bc13cad95da124fe07c4e12a9bce74f54c874c9e247e7e6eef8ec"
    }
   }
  }
 },
 "nbformat": 4,
 "nbformat_minor": 2,
 "cells": [
  {
   "source": [
    "# 1.\n",
    "\n",
    "- I den här uppgiften ska du skapa en textfil vid namn diceRoll.txt från Python. Skriv lämpliga rubriker till varje deluppgift i textfilen."
   ],
   "cell_type": "markdown",
   "metadata": {}
  },
  {
   "cell_type": "code",
   "execution_count": 43,
   "metadata": {},
   "outputs": [
    {
     "output_type": "stream",
     "name": "stdout",
     "text": [
      "[6, 1, 2, 6, 9, 3, 8, 1, 6, 4]\n"
     ]
    }
   ],
   "source": [
    "# (a) Simulera 10 tärningskast och skriv dem till diceRoll.txt\n",
    "import random as rnd\n",
    "\n",
    "kast = []\n",
    "for i in range(10):\n",
    "    kast.append(rnd.randint(1,11))\n",
    "print(kast)\n",
    "\n",
    "with open(\"diceRoll.txt\", \"w\") as f:\n",
    "    f.write(f\"Simulera 10 tarningskast: {kast}\")\n",
    "\n",
    "# (b) Sortera tärningskasten från (a) och skriv ut dem på separat rad i diceRoll.txt\n",
    "kast.sort()\n",
    "\n",
    "with open(\"diceRoll.txt\", \"a\") as f1:\n",
    "    f1.write(f\"\\nKastet sorterat: {kast}\")\n",
    "\n",
    "# (c) Räkna antalet femmor i kasten och skriv ut på separat rad i diceRoll.txt\n",
    "\n",
    "femmor = 0\n",
    "\n",
    "for i in kast:\n",
    "    if i == 5:\n",
    "        femmor += 1\n",
    "    \n",
    "with open(\"diceRoll.txt\", \"a\") as f2:\n",
    "    f2.write(f\"\\nAntalet femmor: {femmor}\")"
   ]
  },
  {
   "cell_type": "code",
   "execution_count": null,
   "metadata": {},
   "outputs": [],
   "source": []
  }
 ]
}