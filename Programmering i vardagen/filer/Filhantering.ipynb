{
 "metadata": {
  "language_info": {
   "codemirror_mode": {
    "name": "ipython",
    "version": 3
   },
   "file_extension": ".py",
   "mimetype": "text/x-python",
   "name": "python",
   "nbconvert_exporter": "python",
   "pygments_lexer": "ipython3",
   "version": "3.8.3-final"
  },
  "orig_nbformat": 2,
  "kernelspec": {
   "name": "python3",
   "display_name": "Python 3",
   "language": "python"
  }
 },
 "nbformat": 4,
 "nbformat_minor": 2,
 "cells": [
  {
   "source": [
    "# Filhantering 1 - .txt-filer\n",
    "+ läs in fil och skriv ut texten"
   ],
   "cell_type": "markdown",
   "metadata": {}
  },
  {
   "cell_type": "code",
   "execution_count": 2,
   "metadata": {},
   "outputs": [
    {
     "output_type": "stream",
     "name": "stdout",
     "text": [
      "Filen hittades inte, checka stavningen\n"
     ]
    }
   ],
   "source": [
    "try:\n",
    "    with open(\"Stora forkare.txt\", \"r\") as f1:\n",
    "        for rad in f1:\n",
    "            print(rad, end=\"\")\n",
    "except FileNotFoundError:\n",
    "    print(\"Filen hittades inte, checka stavningen\")"
   ]
  },
  {
   "cell_type": "code",
   "execution_count": 3,
   "metadata": {},
   "outputs": [
    {
     "output_type": "stream",
     "name": "stdout",
     "text": [
      "Isaac Newton 1643-01-04\n         Gallileo Gallilei 1564-02-15 \nLeonhard Euler 1707-04-15\nAlbert Einstein 1879-03-14       \n     Carl Friedrich Gauss 1799-04-30\nStephen Hawking 1942-01-08\n"
     ]
    }
   ],
   "source": [
    "with open(\"Stora forskare.txt\", \"r\") as f1:\n",
    "    for rad in f1:\n",
    "        print(rad, end=\"\")"
   ]
  },
  {
   "source": [
    "## Hitta alla födda före 1800-talet"
   ],
   "cell_type": "markdown",
   "metadata": {}
  },
  {
   "cell_type": "code",
   "execution_count": 17,
   "metadata": {},
   "outputs": [
    {
     "output_type": "stream",
     "name": "stdout",
     "text": [
      "Isaac Newton 1643-01-04\nGallileo Gallilei 1564-02-15\nLeonhard Euler 1707-04-15\nAlbert Einstein 1879-03-14\nCarl Friedrich Gauss 1799-04-30\nStephen Hawking 1942-01-08\n['Isaac Newton', 'Gallileo Gallilei', 'Leonhard Euler', 'Carl Friedrich Gauss']\n"
     ]
    }
   ],
   "source": [
    "    före1800 = []\n",
    "    \n",
    "    with open(\"Stora forskare.txt\", \"r\") as f1:\n",
    "        for rad in f1:\n",
    "            # tar bort blanksted och radbrytningar i början och slutet\n",
    "            rad = rad.strip(\" \\n\")\n",
    "            print(rad)\n",
    "            #print(rad[-10:-6])\n",
    "            # plocka ut året & typomvandla till int\n",
    "            år = int(rad[-10:-6])\n",
    "            # checka om året < 1800, lägg till i en lista\n",
    "            if år < 1800:\n",
    "                före1800.append(rad[0:-11])\n",
    "\n",
    "print(före1800)"
   ]
  },
  {
   "source": [
    "# Skriva till fil"
   ],
   "cell_type": "markdown",
   "metadata": {}
  },
  {
   "cell_type": "code",
   "execution_count": 22,
   "metadata": {},
   "outputs": [
    {
     "output_type": "error",
     "ename": "FileNotFoundError",
     "evalue": "[Errno 2] No such file or directory: 'filer\\\\Stora Forskare.txt'",
     "traceback": [
      "\u001b[1;31m---------------------------------------------------------------------------\u001b[0m",
      "\u001b[1;31mFileNotFoundError\u001b[0m                         Traceback (most recent call last)",
      "\u001b[1;32m<ipython-input-22-1b6a0f48bcc7>\u001b[0m in \u001b[0;36m<module>\u001b[1;34m\u001b[0m\n\u001b[1;32m----> 1\u001b[1;33m \u001b[1;32mwith\u001b[0m \u001b[0mopen\u001b[0m\u001b[1;33m(\u001b[0m\u001b[1;34m\"filer\\Stora Forskare.txt\"\u001b[0m\u001b[1;33m,\u001b[0m \u001b[1;34m\"r\"\u001b[0m\u001b[1;33m)\u001b[0m \u001b[1;32mas\u001b[0m \u001b[0mf1\u001b[0m\u001b[1;33m,\u001b[0m \u001b[0mopen\u001b[0m\u001b[1;33m(\u001b[0m\u001b[1;34m\"Stora Forskare 2.txt\"\u001b[0m\u001b[1;33m,\u001b[0m \u001b[1;34m\"w\"\u001b[0m\u001b[1;33m)\u001b[0m \u001b[1;32mas\u001b[0m \u001b[0mf2\u001b[0m\u001b[1;33m:\u001b[0m\u001b[1;33m\u001b[0m\u001b[1;33m\u001b[0m\u001b[0m\n\u001b[0m\u001b[0;32m      2\u001b[0m     \u001b[1;32mfor\u001b[0m \u001b[0mrad\u001b[0m \u001b[1;32min\u001b[0m \u001b[0mf1\u001b[0m\u001b[1;33m:\u001b[0m\u001b[1;33m\u001b[0m\u001b[1;33m\u001b[0m\u001b[0m\n\u001b[0;32m      3\u001b[0m         \u001b[0mrad\u001b[0m \u001b[1;33m=\u001b[0m \u001b[0mrad\u001b[0m\u001b[1;33m.\u001b[0m\u001b[0mstrip\u001b[0m\u001b[1;33m(\u001b[0m\u001b[1;34m\" \"\u001b[0m\u001b[1;33m)\u001b[0m \u001b[1;31m# removes trailing and leading spaces\u001b[0m\u001b[1;33m\u001b[0m\u001b[1;33m\u001b[0m\u001b[0m\n\u001b[0;32m      4\u001b[0m         \u001b[0mf2\u001b[0m\u001b[1;33m.\u001b[0m\u001b[0mwrite\u001b[0m\u001b[1;33m(\u001b[0m\u001b[0mrad\u001b[0m\u001b[1;33m)\u001b[0m\u001b[1;33m\u001b[0m\u001b[1;33m\u001b[0m\u001b[0m\n\u001b[0;32m      5\u001b[0m \u001b[1;33m\u001b[0m\u001b[0m\n",
      "\u001b[1;31mFileNotFoundError\u001b[0m: [Errno 2] No such file or directory: 'filer\\\\Stora Forskare.txt'"
     ]
    }
   ],
   "source": [
    "with open(\"Stora Forskare.txt\", \"r\") as f1, open(\"Stora Forskare 2.txt\", \"w\") as f2:\n",
    "    for rad in f1:\n",
    "        rad = rad.strip(\" \") # removes trailing and leading spaces\n",
    "        f2.write(rad)\n",
    "\n",
    "    f2.write(\"Andrew Wiles 1953-04-11\\n\")"
   ]
  },
  {
   "cell_type": "code",
   "execution_count": null,
   "metadata": {},
   "outputs": [],
   "source": []
  }
 ]
}