{
 "metadata": {
  "language_info": {
   "codemirror_mode": {
    "name": "ipython",
    "version": 3
   },
   "file_extension": ".py",
   "mimetype": "text/x-python",
   "name": "python",
   "nbconvert_exporter": "python",
   "pygments_lexer": "ipython3",
   "version": "3.8.3-final"
  },
  "orig_nbformat": 2,
  "kernelspec": {
   "name": "python_defaultSpec_1600412916394",
   "display_name": "Python 3.8.3 64-bit ('jonas.olanders': virtualenv)"
  }
 },
 "nbformat": 4,
 "nbformat_minor": 2,
 "cells": [
  {
   "cell_type": "code",
   "execution_count": 5,
   "metadata": {
    "tags": []
   },
   "outputs": [
    {
     "output_type": "stream",
     "name": "stdout",
     "text": "Talet är negativt\n"
    }
   ],
   "source": [
    "#If-satser\n",
    "#Uppgift 1\n",
    "\n",
    "Tal = float(input(\"skriv in vilket tal som helst för att få reda på om det är positivt eller negativt:\"))\n",
    "\n",
    "if Tal > 0:\n",
    "    print(\"Talet är positivt\")\n",
    "elif Tal < 0:\n",
    "    print(\"Talet är negativt\")\n",
    "else: print(\"Talet är varken negativt eller positivt. (Talet är noll)\")\n"
   ]
  },
  {
   "cell_type": "code",
   "execution_count": 11,
   "metadata": {
    "tags": []
   },
   "outputs": [
    {
     "output_type": "stream",
     "name": "stdout",
     "text": "Talet är udda\nTalet är delbart med 5\n"
    }
   ],
   "source": [
    "#Uppgift 2\n",
    "\n",
    "Tal = int(input(\"Skriv ett heltal så får du veta om det är jämnt, udda eller delbart med 5\"))\n",
    "\n",
    "if Tal%2 == 0:\n",
    "    print(\"Talet är jämnt\")\n",
    "else: print(\"Talet är udda\")\n",
    "if Tal%5 == 0:\n",
    "    print(\"Talet är delbart med 5\")"
   ]
  },
  {
   "cell_type": "code",
   "execution_count": 11,
   "metadata": {
    "tags": []
   },
   "outputs": [
    {
     "output_type": "stream",
     "name": "stdout",
     "text": "Tal nummer 4 är störst\n"
    }
   ],
   "source": [
    "#Uppgift 3\n",
    "\n",
    "Tal_1 = float(input(\"Skriv ett tal:\"))\n",
    "Tal_2 = float(input(\"Skriv ett till tal:\"))\n",
    "Tal_3 = float(input(\"Skriv ännu ett tal:\"))\n",
    "Tal_4 = float(input(\"Skriv ett sista tal:\"))\n",
    "\n",
    "if Tal_1 > Tal_2 and Tal_1 > Tal_3 and Tal_1 > Tal_4:\n",
    "    Storst = \"1\"\n",
    "\n",
    "if Tal_2 > Tal_1 and Tal_2 > Tal_3 and Tal_2 > Tal_4:\n",
    "    Storst = \"2\"\n",
    "\n",
    "if Tal_3 > Tal_1 and Tal_3 > Tal_2 and Tal_3 > Tal_4:\n",
    "    Storst = \"3\"\n",
    "\n",
    "if Tal_4 > Tal_1 and Tal_4 > Tal_2 and Tal_4 > Tal_3:\n",
    "    Storst = \"4\"\n",
    "\n",
    "print(f\"Tal nummer {Storst} är störst\")"
   ]
  },
  {
   "cell_type": "code",
   "execution_count": 49,
   "metadata": {
    "tags": []
   },
   "outputs": [
    {
     "output_type": "stream",
     "name": "stdout",
     "text": "Skriv någon vinkel mellan 0 och 360 för att få ett resultat\n"
    }
   ],
   "source": [
    "#Uppgift 4\n",
    "\n",
    "Vinkel = float(input(\"Skriv någon vinkel tack:\"))\n",
    "\n",
    "if 0 < Vinkel < 90:\n",
    "    print(\"Vinkeln är spetsig\")\n",
    "elif Vinkel == 90:\n",
    "    print(\"Vinkeln är rät\")\n",
    "elif 90 < Vinkel < 180:\n",
    "    print(\"Vinkeln är trubbig\")\n",
    "elif Vinkel == 180:\n",
    "    print(\"Vinkeln är rak\")\n",
    "elif 180 < Vinkel < 360:\n",
    "    print(\"Vinkeln är konvex\")\n",
    "elif Vinkel == 360:\n",
    "    print(\"Vinkeln är rät\")\n",
    "else: print(\"Skriv någon vinkel mellan 0 och 360 för att få ett resultat\")"
   ]
  },
  {
   "cell_type": "code",
   "execution_count": 20,
   "metadata": {
    "tags": []
   },
   "outputs": [
    {
     "output_type": "stream",
     "name": "stdout",
     "text": "101 could not calculate. Reason: negative value. Please choose a positive value instead\n"
    }
   ],
   "source": [
    "#Uppgift 5\n",
    "\n",
    "import math\n",
    "math.pi\n",
    "\n",
    "\n",
    "Radie = float(input(\"Skriv in en valfri radie i cm\"))\n",
    "\n",
    "Omkrets = Radie * 2 * math.pi\n",
    "Area = Radie * Radie * math.pi\n",
    "\n",
    "if Radie > 0:\n",
    "    print(f\"Cirkelns omkrets är {Omkrets:.0f}cm och arean är {Area:.0f}cm\")\n",
    "else:\n",
    "    print(\"101 could not calculate. Reason: negative value. Please choose a positive value instead\")\n",
    "\n"
   ]
  }
 ]
}