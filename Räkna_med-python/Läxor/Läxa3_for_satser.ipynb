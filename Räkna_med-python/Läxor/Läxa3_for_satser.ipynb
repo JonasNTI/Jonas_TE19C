{
 "metadata": {
  "language_info": {
   "codemirror_mode": {
    "name": "ipython",
    "version": 3
   },
   "file_extension": ".py",
   "mimetype": "text/x-python",
   "name": "python",
   "nbconvert_exporter": "python",
   "pygments_lexer": "ipython3",
   "version": "3.8.3-final"
  },
  "orig_nbformat": 2,
  "kernelspec": {
   "name": "Python 3.8.3 64-bit ('base': conda)",
   "display_name": "Python 3.8.3 64-bit ('base': conda)",
   "metadata": {
    "interpreter": {
     "hash": "f1fcf5cd886bc13cad95da124fe07c4e12a9bce74f54c874c9e247e7e6eef8ec"
    }
   }
  }
 },
 "nbformat": 4,
 "nbformat_minor": 2,
 "cells": [
  {
   "source": [
    "# Uppgifter for-satser"
   ],
   "cell_type": "markdown",
   "metadata": {}
  },
  {
   "cell_type": "code",
   "execution_count": 4,
   "metadata": {
    "tags": []
   },
   "outputs": [
    {
     "output_type": "stream",
     "name": "stdout",
     "text": "1 2 3 4 5 6 7 8 9 10 "
    }
   ],
   "source": [
    "# Uppgift 1 a)\n",
    "\n",
    "for i in range(1,11):\n",
    "    print(i, end= \" \")"
   ]
  },
  {
   "cell_type": "code",
   "execution_count": 5,
   "metadata": {
    "tags": []
   },
   "outputs": [
    {
     "output_type": "stream",
     "name": "stdout",
     "text": "-10 -9 -8 -7 -6 -5 -4 -3 -2 -1 0 1 2 3 4 5 6 7 8 9 10 "
    }
   ],
   "source": [
    "# Uppgift 1 b)\n",
    "\n",
    "for i in range(-10,11):\n",
    "    print(i, end= \" \")"
   ]
  },
  {
   "cell_type": "code",
   "execution_count": 4,
   "metadata": {
    "tags": []
   },
   "outputs": [
    {
     "output_type": "stream",
     "name": "stdout",
     "text": "10 9 8 7 6 5 4 3 2 1 0 "
    }
   ],
   "source": [
    "# Uppgift 1 c)\n",
    "\n",
    "\n",
    "for i in reversed(range(11)):\n",
    "    print(i, end= \" \")\n",
    "    "
   ]
  },
  {
   "cell_type": "code",
   "execution_count": 35,
   "metadata": {
    "tags": []
   },
   "outputs": [
    {
     "output_type": "stream",
     "name": "stdout",
     "text": "1 11 13 17 19 23 29 31 37 41 43 47 53 59 61 67 71 73 79 83 89 97 "
    }
   ],
   "source": [
    "# Uppgift 2\n",
    "\n",
    "for i in range(1,100):\n",
    "    if i%2 != 0 and i%3 != 0 and i%5 != 0 and i%7 != 0:\n",
    "       print(i, end=\" \")"
   ]
  },
  {
   "cell_type": "code",
   "execution_count": 5,
   "metadata": {
    "tags": []
   },
   "outputs": [
    {
     "output_type": "stream",
     "name": "stdout",
     "text": "1\n3\n6\n10\n15\n21\n28\n36\n45\n55\n66\n78\n91\n105\n120\n136\n153\n171\n190\n210\n231\n253\n276\n300\n325\n351\n378\n406\n435\n465\n496\n528\n561\n595\n630\n666\n703\n741\n780\n820\n861\n903\n946\n990\n1035\n1081\n1128\n1176\n1225\n1275\n1326\n1378\n1431\n1485\n1540\n1596\n1653\n1711\n1770\n1830\n1891\n1953\n2016\n2080\n2145\n2211\n2278\n2346\n2415\n2485\n2556\n2628\n2701\n2775\n2850\n2926\n3003\n3081\n3160\n3240\n3321\n3403\n3486\n3570\n3655\n3741\n3828\n3916\n4005\n4095\n4186\n4278\n4371\n4465\n4560\n4656\n4753\n4851\n4950\n5050\n"
    }
   ],
   "source": [
    "# Uppgift 3\n",
    "\n",
    "s = 0\n",
    "\n",
    "for i in range(1, 101):\n",
    "    s += i\n",
    "print(s)"
   ]
  },
  {
   "cell_type": "code",
   "execution_count": 4,
   "metadata": {
    "tags": []
   },
   "outputs": [
    {
     "output_type": "stream",
     "name": "stdout",
     "text": "2500\n"
    }
   ],
   "source": [
    "# Uppgift 4\n",
    "\n",
    "s = 0\n",
    "\n",
    "for i in range(1, 100, 2):\n",
    "    s += i\n",
    "print(s)"
   ]
  }
 ]
}