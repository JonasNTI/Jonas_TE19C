{
 "metadata": {
  "language_info": {
   "codemirror_mode": {
    "name": "ipython",
    "version": 3
   },
   "file_extension": ".py",
   "mimetype": "text/x-python",
   "name": "python",
   "nbconvert_exporter": "python",
   "pygments_lexer": "ipython3",
   "version": "3.8.3-final"
  },
  "orig_nbformat": 2,
  "kernelspec": {
   "name": "Python 3.8.3 64-bit ('base': conda)",
   "display_name": "Python 3.8.3 64-bit ('base': conda)",
   "metadata": {
    "interpreter": {
     "hash": "f1fcf5cd886bc13cad95da124fe07c4e12a9bce74f54c874c9e247e7e6eef8ec"
    }
   }
  }
 },
 "nbformat": 4,
 "nbformat_minor": 2,
 "cells": [
  {
   "source": [
    "# Uppgifter for-satser"
   ],
   "cell_type": "markdown",
   "metadata": {}
  },
  {
   "cell_type": "code",
   "execution_count": 4,
   "metadata": {
    "tags": []
   },
   "outputs": [
    {
     "output_type": "stream",
     "name": "stdout",
     "text": "1 2 3 4 5 6 7 8 9 10 "
    }
   ],
   "source": [
    "# Uppgift 1 a)\n",
    "\n",
    "for i in range(1,11):\n",
    "    print(i, end= \" \")"
   ]
  },
  {
   "cell_type": "code",
   "execution_count": 5,
   "metadata": {
    "tags": []
   },
   "outputs": [
    {
     "output_type": "stream",
     "name": "stdout",
     "text": "-10 -9 -8 -7 -6 -5 -4 -3 -2 -1 0 1 2 3 4 5 6 7 8 9 10 "
    }
   ],
   "source": [
    "# Uppgift 1 b)\n",
    "\n",
    "for i in range(-10,11):\n",
    "    print(i, end= \" \")"
   ]
  },
  {
   "cell_type": "code",
   "execution_count": 4,
   "metadata": {
    "tags": []
   },
   "outputs": [
    {
     "output_type": "stream",
     "name": "stdout",
     "text": "10 9 8 7 6 5 4 3 2 1 0 "
    }
   ],
   "source": [
    "# Uppgift 1 c)\n",
    "\n",
    "\n",
    "for i in reversed(range(11)):\n",
    "    print(i, end= \" \")\n",
    "    "
   ]
  },
  {
   "cell_type": "code",
   "execution_count": 35,
   "metadata": {
    "tags": []
   },
   "outputs": [
    {
     "output_type": "stream",
     "name": "stdout",
     "text": "1 11 13 17 19 23 29 31 37 41 43 47 53 59 61 67 71 73 79 83 89 97 "
    }
   ],
   "source": [
    "# Uppgift 2\n",
    "\n",
    "for i in range(1,100):\n",
    "    if i%2 != 0 and i%3 != 0 and i%5 != 0 and i%7 != 0:\n",
    "       print(i, end=\" \")\n",
    "# lyckades inte"
   ]
  },
  {
   "cell_type": "code",
   "execution_count": 6,
   "metadata": {
    "tags": []
   },
   "outputs": [
    {
     "output_type": "stream",
     "name": "stdout",
     "text": "5050\n"
    }
   ],
   "source": [
    "# Uppgift 3\n",
    "\n",
    "s = 0\n",
    "\n",
    "for i in range(1, 101):\n",
    "    s += i\n",
    "print(s)"
   ]
  },
  {
   "cell_type": "code",
   "execution_count": 2,
   "metadata": {
    "tags": []
   },
   "outputs": [
    {
     "output_type": "stream",
     "name": "stdout",
     "text": "2500\n"
    }
   ],
   "source": [
    "# Uppgift 4\n",
    "\n",
    "s = 0\n",
    "\n",
    "for i in range(1, 100, 2):\n",
    "    s += i\n",
    "print(s)"
   ]
  }
 ]
}