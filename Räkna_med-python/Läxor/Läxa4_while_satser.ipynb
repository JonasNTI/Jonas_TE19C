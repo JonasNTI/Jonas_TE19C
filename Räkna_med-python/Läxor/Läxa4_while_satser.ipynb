{
 "metadata": {
  "language_info": {
   "codemirror_mode": {
    "name": "ipython",
    "version": 3
   },
   "file_extension": ".py",
   "mimetype": "text/x-python",
   "name": "python",
   "nbconvert_exporter": "python",
   "pygments_lexer": "ipython3",
   "version": "3.8.3-final"
  },
  "orig_nbformat": 2,
  "kernelspec": {
   "name": "Python 3.8.3 64-bit ('base': conda)",
   "display_name": "Python 3.8.3 64-bit ('base': conda)",
   "metadata": {
    "interpreter": {
     "hash": "f1fcf5cd886bc13cad95da124fe07c4e12a9bce74f54c874c9e247e7e6eef8ec"
    }
   }
  }
 },
 "nbformat": 4,
 "nbformat_minor": 2,
 "cells": [
  {
   "cell_type": "code",
   "execution_count": 2,
   "metadata": {
    "tags": []
   },
   "outputs": [
    {
     "output_type": "stream",
     "name": "stdout",
     "text": [
      "5050\n"
     ]
    }
   ],
   "source": [
    "# Uppgift 1\n",
    "\n",
    "s = 0\n",
    "i = 0\n",
    "\n",
    "while i < 100:\n",
    "    i += 1\n",
    "    s += i\n",
    "print(s)"
   ]
  },
  {
   "cell_type": "code",
   "execution_count": 51,
   "metadata": {},
   "outputs": [
    {
     "output_type": "stream",
     "name": "stdout",
     "text": [
      "0.03125\n"
     ]
    }
   ],
   "source": [
    "# Uppgift 3\n",
    "\n",
    "s = 0\n",
    "n = 0\n",
    "\n",
    "while n <= 5:\n",
    "    s = 2 ** -n\n",
    "    n = n + 1\n",
    "\n",
    "print(s)"
   ]
  },
  {
   "cell_type": "code",
   "execution_count": 4,
   "metadata": {
    "tags": []
   },
   "outputs": [
    {
     "output_type": "stream",
     "name": "stdout",
     "text": [
      "Du svarade rätt! Talet var 4\n"
     ]
    }
   ],
   "source": [
    "# Uppgift 5\n",
    "\n",
    "import random as rnd\n",
    "n = rnd.randint(0,100)\n",
    "\n",
    "Gissning = int(input(\"Gissa ett tal mellan 0 och 100\"))\n",
    "\n",
    "while Gissning != n:\n",
    "    if Gissning < n:\n",
    "        Gissning = int(input(\"Större\"))\n",
    "    elif Gissning > n:\n",
    "        Gissning = int(input(\"Mindre\"))\n",
    "\n",
    "print(f\"Du svarade rätt! Talet var {Gissning}\")\n",
    "        \n",
    "\n",
    "#while Gissning < n:\n",
    "#    Gissning = int(input(\"Större\"))\n",
    "    \n",
    "#while Gissning > n:\n",
    "#    Gissning = int(input(\"Mindre\"))\n",
    "\n",
    "# print(f\"Du svarade rätt! Talet var {Gissning}\")"
   ]
  }
 ]
}