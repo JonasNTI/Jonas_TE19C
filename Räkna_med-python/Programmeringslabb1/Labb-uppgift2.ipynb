{
 "metadata": {
  "language_info": {
   "codemirror_mode": {
    "name": "ipython",
    "version": 3
   },
   "file_extension": ".py",
   "mimetype": "text/x-python",
   "name": "python",
   "nbconvert_exporter": "python",
   "pygments_lexer": "ipython3",
   "version": "3.8.3-final"
  },
  "orig_nbformat": 2,
  "kernelspec": {
   "name": "Python 3.8.3 64-bit ('jonas.olanders': virtualenv)",
   "display_name": "Python 3.8.3 64-bit ('jonas.olanders': virtualenv)",
   "metadata": {
    "interpreter": {
     "hash": "f1fcf5cd886bc13cad95da124fe07c4e12a9bce74f54c874c9e247e7e6eef8ec"
    }
   }
  }
 },
 "nbformat": 4,
 "nbformat_minor": 2,
 "cells": [
  {
   "source": [
    "# Uppgift 2"
   ],
   "cell_type": "markdown",
   "metadata": {}
  },
  {
   "cell_type": "code",
   "execution_count": 12,
   "metadata": {},
   "outputs": [
    {
     "output_type": "stream",
     "name": "stdout",
     "text": [
      "1\n2\n3\n4\n5\n6\n7\n8\n9\n10\n11\n12\n13\n14\n15\n16\n17\n18\n19\n20\n21\n22\n23\n24\n25\n26\n27\n28\n29\n30\n31\n32\n33\n34\n35\n36\n37\n38\n39\n40\n41\n42\n43\n44\n45\n46\n47\n48\n49\n50\n51\n52\n53\n54\n55\n56\n57\n58\n59\n60\n61\n62\n63\n64\n65\n66\n67\n68\n69\n70\n71\n72\n73\n74\n75\n76\n77\n78\n79\n80\n81\n82\n83\n84\n85\n86\n87\n88\n89\n90\n91\n92\n93\n94\n95\n96\n97\n98\n99\n100\n"
     ]
    }
   ],
   "source": [
    "# (a) Låt programmet skriva ut tal från 1-100\n",
    "\n",
    "for i in range(1, 101):\n",
    "    print (i)"
   ]
  },
  {
   "cell_type": "code",
   "execution_count": 13,
   "metadata": {},
   "outputs": [
    {
     "output_type": "stream",
     "name": "stdout",
     "text": [
      "1\n2\n3\n4\nBurr\n6\n7\n8\n9\nBurr\n11\n12\n13\n14\nBurr\n16\n17\n18\n19\nBurr\n21\n22\n23\n24\nBurr\n26\n27\n28\n29\nBurr\n31\n32\n33\n34\nBurr\n36\n37\n38\n39\nBurr\n41\n42\n43\n44\nBurr\n46\n47\n48\n49\nBurr\n51\n52\n53\n54\nBurr\n56\n57\n58\n59\nBurr\n61\n62\n63\n64\nBurr\n66\n67\n68\n69\nBurr\n71\n72\n73\n74\nBurr\n76\n77\n78\n79\nBurr\n81\n82\n83\n84\nBurr\n86\n87\n88\n89\nBurr\n91\n92\n93\n94\nBurr\n96\n97\n98\n99\nBurr\n"
     ]
    }
   ],
   "source": [
    "# (b) För varje multipel av 5 ska programmet skriva ut ”Burr”\n",
    "\n",
    "for i in range(1 , 101):\n",
    "    if i %5 == 0:\n",
    "        print (\"Burr\")\n",
    "    else: print (i)"
   ]
  },
  {
   "cell_type": "code",
   "execution_count": 17,
   "metadata": {},
   "outputs": [
    {
     "output_type": "stream",
     "name": "stdout",
     "text": [
      "1\n2\n3\n4\n5\n6\nBurr\n8\n9\n10\n11\n12\n13\nBurr\n15\n16\n17\n18\n19\n20\nBurr\n22\n23\n24\n25\n26\n27\nBurr\n29\n30\n31\n32\n33\n34\nBurr\n36\n37\n38\n39\n40\n41\nBurr\n43\n44\n45\n46\n47\n48\nBurr\n50\n51\n52\n53\n54\n55\nBurr\n57\n58\n59\n60\n61\n62\nBurr\n64\n65\n66\n67\n68\n69\nBurr\n71\n72\n73\n74\n75\n76\nBurr\n78\n79\n80\n81\n82\n83\nBurr\n85\n86\n87\n88\n89\n90\nBurr\n92\n93\n94\n95\n96\n97\nBurr\n99\n100\n"
     ]
    }
   ],
   "source": [
    "# (c) Låt användaren mata in ett tal vars multiplar blir ”Burr”\n",
    "\n",
    "Tal_Burr = int(input(\"Skriv ett tal vars multiplar ska bli Burr\"))\n",
    "\n",
    "for i in range(1,101):\n",
    "    if i %Tal_Burr == 0:\n",
    "        print(\"Burr\")\n",
    "    else: print(i)"
   ]
  },
  {
   "cell_type": "code",
   "execution_count": 22,
   "metadata": {},
   "outputs": [
    {
     "output_type": "stream",
     "name": "stdout",
     "text": [
      "1\n2\nBurr\n4\nBirr\nBurr\n7\n8\nBurr\nBirr\n11\nBurr\n13\n14\nBurr\nBirr\n16\n17\nBurr\n19\nBirr\nBurr\n22\n23\nBurr\nBirr\n26\nBurr\n28\n29\nBurr\nBirr\n31\n32\nBurr\n34\nBirr\nBurr\n37\n38\nBurr\nBirr\n41\nBurr\n43\n44\nBurr\nBirr\n46\n47\nBurr\n49\nBirr\nBurr\n52\n53\nBurr\nBirr\n56\nBurr\n58\n59\nBurr\nBirr\n61\n62\nBurr\n64\nBirr\nBurr\n67\n68\nBurr\nBirr\n71\nBurr\n73\n74\nBurr\nBirr\n76\n77\nBurr\n79\nBirr\nBurr\n82\n83\nBurr\nBirr\n86\nBurr\n88\n89\nBurr\nBirr\n91\n92\nBurr\n94\nBirr\nBurr\n97\n98\nBurr\nBirr\n"
     ]
    }
   ],
   "source": [
    "# (d) Låt användaren även mata in ett tal vars multiplar blir ”Birr”\n",
    "\n",
    "Tal_Burr = int(input(\"Skriv ett tal vars multiplar ska bli Burr\"))\n",
    "Tal_Birr = int(input(\"Skriv ett tal vars multiplar ska bli Birr\"))\n",
    "\n",
    "for i in range(1,101):\n",
    "    if i %Tal_Burr == 0:\n",
    "        print(\"Burr\")\n",
    "    if i %Tal_Birr == 0:\n",
    "        print(\"Birr\")\n",
    "    elif i %Tal_Burr != 0:\n",
    "        print(i)"
   ]
  },
  {
   "cell_type": "code",
   "execution_count": 27,
   "metadata": {},
   "outputs": [
    {
     "output_type": "stream",
     "name": "stdout",
     "text": [
      "4\n2\n1\n"
     ]
    }
   ],
   "source": [
    "# (e) Designa nu ett program som låter användaren välja start, slut, multipel för ”Burr” och multipel för ”Birr”. Programmet ska räkna upp antalet ”Burr”, ”Birr” och ”Burr Birr”\n",
    "\n",
    "Tal_Burr = int(input(\"Skriv ett heltal vars multiplar ska bli Burr\"))\n",
    "Tal_Birr = int(input(\"Skriv ett heltal vars multiplar ska bli Birr\"))\n",
    "Tal_start = int(input(\"Välj ett heltal som programmet ska börja räkna från \"))\n",
    "Tal_stop = int(input(\"Välj ett heltal som programmet ska räkna till. (OBS måste vara större än förra talet)\"))\n",
    "\n",
    "Burr = 0\n",
    "Birr = 0\n",
    "BurrBirr = 0\n",
    "\n",
    "for i in range(Tal_start , Tal_stop + 1):\n",
    "    if i %Tal_Burr == 0 and i %Tal_Birr == 0:\n",
    "        BurrBirr += 1\n",
    "    elif i %Tal_Burr == 0:\n",
    "        Burr += 1\n",
    "    elif i %Tal_Birr == 0:\n",
    "        Birr += 1\n",
    "\n",
    "print(Burr)\n",
    "print(Birr)\n",
    "print(BurrBirr)"
   ]
  }
 ]
}