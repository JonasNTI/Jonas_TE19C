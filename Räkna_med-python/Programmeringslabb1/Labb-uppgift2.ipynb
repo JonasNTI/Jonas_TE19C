{
 "metadata": {
  "language_info": {
   "codemirror_mode": {
    "name": "ipython",
    "version": 3
   },
   "file_extension": ".py",
   "mimetype": "text/x-python",
   "name": "python",
   "nbconvert_exporter": "python",
   "pygments_lexer": "ipython3",
   "version": "3.8.3-final"
  },
  "orig_nbformat": 2,
  "kernelspec": {
   "name": "Python 3.8.3 64-bit (conda)",
   "display_name": "Python 3.8.3 64-bit (conda)",
   "metadata": {
    "interpreter": {
     "hash": "f1fcf5cd886bc13cad95da124fe07c4e12a9bce74f54c874c9e247e7e6eef8ec"
    }
   }
  }
 },
 "nbformat": 4,
 "nbformat_minor": 2,
 "cells": [
  {
   "source": [
    "# Uppgift 2"
   ],
   "cell_type": "markdown",
   "metadata": {}
  },
  {
   "cell_type": "code",
   "execution_count": 3,
   "metadata": {},
   "outputs": [
    {
     "output_type": "stream",
     "name": "stdout",
     "text": [
      "1 2 3 4 5 6 7 8 9 10 11 12 13 14 15 16 17 18 19 20 21 22 23 24 25 26 27 28 29 30 31 32 33 34 35 36 37 38 39 40 41 42 43 44 45 46 47 48 49 50 51 52 53 54 55 56 57 58 59 60 61 62 63 64 65 66 67 68 69 70 71 72 73 74 75 76 77 78 79 80 81 82 83 84 85 86 87 88 89 90 91 92 93 94 95 96 97 98 99 100 "
     ]
    }
   ],
   "source": [
    "# (a) Låt programmet skriva ut tal från 1-100\n",
    "\n",
    "for i in range(1, 101):\n",
    "    print (i, end=\" \")"
   ]
  },
  {
   "cell_type": "code",
   "execution_count": 8,
   "metadata": {},
   "outputs": [
    {
     "output_type": "stream",
     "name": "stdout",
     "text": [
      "1 2 3 4 Burr  6 7 8 9 Burr  11 12 13 14 Burr  16 17 18 19 Burr  21 22 23 24 Burr  26 27 28 29 Burr  31 32 33 34 Burr  36 37 38 39 Burr  41 42 43 44 Burr  46 47 48 49 Burr  51 52 53 54 Burr  56 57 58 59 Burr  61 62 63 64 Burr  66 67 68 69 Burr  71 72 73 74 Burr  76 77 78 79 Burr  81 82 83 84 Burr  86 87 88 89 Burr  91 92 93 94 Burr  96 97 98 99 Burr  "
     ]
    }
   ],
   "source": [
    "# (b) För varje multipel av 5 ska programmet skriva ut ”Burr”\n",
    "\n",
    "for i in range(1 , 101):\n",
    "    # Om talet \"i\" är jämnt delbart med 5 printar programmet ut order \"Burr\", annars printas istället värdet av i\n",
    "    if i %5 == 0:\n",
    "        print (\"Burr\", end=\"  \")\n",
    "    else: print (i, end=\" \")"
   ]
  },
  {
   "cell_type": "code",
   "execution_count": 9,
   "metadata": {},
   "outputs": [
    {
     "output_type": "stream",
     "name": "stdout",
     "text": [
      "1 2 3 4 5 Burr  7 8 9 10 11 Burr  13 14 15 16 17 Burr  19 20 21 22 23 Burr  25 26 27 28 29 Burr  31 32 33 34 35 Burr  37 38 39 40 41 Burr  43 44 45 46 47 Burr  49 50 51 52 53 Burr  55 56 57 58 59 Burr  61 62 63 64 65 Burr  67 68 69 70 71 Burr  73 74 75 76 77 Burr  79 80 81 82 83 Burr  85 86 87 88 89 Burr  91 92 93 94 95 Burr  97 98 99 100 "
     ]
    }
   ],
   "source": [
    "# (c) Låt användaren mata in ett tal vars multiplar blir ”Burr”\n",
    "\n",
    "Tal_Burr = int(input(\"Skriv ett tal vars multiplar ska bli Burr\"))\n",
    "\n",
    "for i in range(1,101):\n",
    "    # Om \"i\" är jämnt delbar med Tal_Burr skriver programmet ut \"Burr\", annars skrivs värdet av \"i\" ut istället.\n",
    "    if i %Tal_Burr == 0:\n",
    "        print(\"Burr\", end=\"  \")\n",
    "    else: print(i, end=\" \")"
   ]
  },
  {
   "cell_type": "code",
   "execution_count": 10,
   "metadata": {},
   "outputs": [
    {
     "output_type": "stream",
     "name": "stdout",
     "text": [
      "1 2 3 4 5 Burr  Birr  8 9 10 11 Burr  13 Birr  15 16 17 Burr  19 20 Birr  22 23 Burr  25 26 27 Birr  29 Burr  31 32 33 34 Birr  Burr  37 38 39 40 41 Burr  Birr  43 44 45 46 47 Burr  Birr  50 51 52 53 Burr  55 Birr  57 58 59 Burr  61 62 Birr  64 65 Burr  67 68 69 Birr  71 Burr  73 74 75 76 Birr  Burr  79 80 81 82 83 Burr  Birr  85 86 87 88 89 Burr  Birr  92 93 94 95 Burr  97 Birr  99 100 "
     ]
    }
   ],
   "source": [
    "# (d) Låt användaren även mata in ett tal vars multiplar blir ”Birr”\n",
    "\n",
    "Tal_Burr = int(input(\"Skriv ett tal vars multiplar ska bli Burr\"))\n",
    "Tal_Birr = int(input(\"Skriv ett tal vars multiplar ska bli Birr\"))\n",
    "\n",
    "for i in range(1,101):\n",
    "    # Om talet \"i\" är jämnt delbart med variabeln Tal_Burr så skrivs \"Burr\" ut istället för värdet av \"i\".\n",
    "    if i %Tal_Burr == 0:\n",
    "        print(\"Burr\", end=\"  \")\n",
    "\n",
    "    # Om talet \"i\" är jämnt delbart med variabeln Tal_Birr så skrivs \"Birr\" ut istället för talet. Annars om \"i\"\n",
    "    # varken är jämnt delbart med Tal_Birr eller Tal_Burr så skriver programmet ut värdet av \"i\" istället för\n",
    "    # Birr eller Burr.\n",
    "        print(\"Birr\", end=\"  \")\n",
    "    elif i %Tal_Burr != 0:\n",
    "        print(i, end=\" \")"
   ]
  },
  {
   "cell_type": "code",
   "execution_count": 13,
   "metadata": {},
   "outputs": [
    {
     "output_type": "stream",
     "name": "stdout",
     "text": [
      "200st Burr\n100st Birr\n100st Burr Birr\n"
     ]
    }
   ],
   "source": [
    "# (e) Designa nu ett program som låter användaren välja start, slut, multipel för ”Burr” och multipel för ”Birr”. Programmet ska räkna upp antalet ”Burr”, ”Birr” och ”Burr Birr”\n",
    "\n",
    "Tal_Burr = int(input(\"Skriv ett heltal vars multiplar ska bli Burr\"))\n",
    "Tal_Birr = int(input(\"Skriv ett heltal vars multiplar ska bli Birr\"))\n",
    "Tal_start = int(input(\"Välj ett heltal som programmet ska börja räkna från \"))\n",
    "Tal_stopp = int(input(\"Välj ett heltal som programmet ska räkna till. (OBS måste vara större än förra talet)\"))\n",
    "\n",
    "Burr = 0\n",
    "Birr = 0\n",
    "BurrBirr = 0\n",
    "\n",
    "# Om någon av dessa if-satser är sann ökar värdet av den variabeln med 1\n",
    "for i in range(Tal_start,Tal_stopp + 1):\n",
    "    if i %Tal_Burr == 0:\n",
    "        Burr += 1\n",
    "    if i %Tal_Birr == 0:\n",
    "        Birr += 1\n",
    "    if i %Tal_Burr == 0 and i %Tal_Birr == 0:\n",
    "        BurrBirr += 1\n",
    "\n",
    "print(f\"{Burr}st Burr\")\n",
    "print(f\"{Birr}st Birr\")\n",
    "print(f\"{BurrBirr}st Burr Birr\")"
   ]
  }
 ]
}