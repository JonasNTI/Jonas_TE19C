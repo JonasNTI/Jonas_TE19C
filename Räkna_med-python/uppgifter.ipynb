{
 "metadata": {
  "language_info": {
   "codemirror_mode": {
    "name": "ipython",
    "version": 3
   },
   "file_extension": ".py",
   "mimetype": "text/x-python",
   "name": "python",
   "nbconvert_exporter": "python",
   "pygments_lexer": "ipython3",
   "version": "3.8.3-final"
  },
  "orig_nbformat": 2,
  "kernelspec": {
   "name": "python_defaultSpec_1599045910173",
   "display_name": "Python 3.8.3 64-bit ('base': conda)"
  }
 },
 "nbformat": 4,
 "nbformat_minor": 2,
 "cells": [
  {
   "cell_type": "code",
   "execution_count": 2,
   "metadata": {
    "tags": []
   },
   "outputs": [
    {
     "output_type": "stream",
     "name": "stdout",
     "text": "5\n"
    }
   ],
   "source": [
    "# Lektion 1\n",
    "# Uppgift 1 a)\n",
    "\n",
    "print(12-7)"
   ]
  },
  {
   "cell_type": "code",
   "execution_count": 3,
   "metadata": {
    "tags": []
   },
   "outputs": [
    {
     "output_type": "stream",
     "name": "stdout",
     "text": "17.0\n"
    }
   ],
   "source": [
    "# Uppgift 1 b)\n",
    "\n",
    "print (24/3+9)"
   ]
  },
  {
   "cell_type": "code",
   "execution_count": 5,
   "metadata": {
    "tags": []
   },
   "outputs": [
    {
     "output_type": "stream",
     "name": "stdout",
     "text": "127\n"
    }
   ],
   "source": [
    "# Uppgift 1 c)\n",
    "\n",
    "print (3*43-2)"
   ]
  },
  {
   "cell_type": "code",
   "execution_count": 6,
   "metadata": {
    "tags": []
   },
   "outputs": [
    {
     "output_type": "stream",
     "name": "stdout",
     "text": "Hej! hur mår du?\n"
    }
   ],
   "source": [
    "#Uppgift 2\n",
    "\n",
    "print (\"Hej! hur mår du?\")"
   ]
  },
  {
   "cell_type": "code",
   "execution_count": 17,
   "metadata": {
    "tags": []
   },
   "outputs": [
    {
     "output_type": "stream",
     "name": "stdout",
     "text": "30\n"
    }
   ],
   "source": [
    "# Uppgift 3 a)\n",
    "\n",
    "Läsk = 15\n",
    "Hamburgare = 29\n",
    "Pommes_frites = 12\n",
    "Morötter = 12\n",
    "\n",
    "print (Läsk*2)"
   ]
  },
  {
   "cell_type": "code",
   "execution_count": 14,
   "metadata": {
    "tags": []
   },
   "outputs": [
    {
     "output_type": "stream",
     "name": "stdout",
     "text": "59\n"
    }
   ],
   "source": [
    "# Uppgift 3 b)\n",
    "\n",
    "print (Läsk*2 + Hamburgare)"
   ]
  },
  {
   "cell_type": "code",
   "execution_count": 13,
   "metadata": {
    "tags": []
   },
   "outputs": [
    {
     "output_type": "stream",
     "name": "stdout",
     "text": "168\n"
    }
   ],
   "source": [
    "# Uppgift 3 c)\n",
    "\n",
    "print (Läsk*3 + Hamburgare*3 + Pommes_frites*3)"
   ]
  },
  {
   "cell_type": "code",
   "execution_count": 16,
   "metadata": {
    "tags": []
   },
   "outputs": [
    {
     "output_type": "stream",
     "name": "stdout",
     "text": "9863\n"
    }
   ],
   "source": [
    "# Uppgift 4\n",
    "\n",
    "print (219 * 45 + 8)"
   ]
  },
  {
   "cell_type": "code",
   "execution_count": 20,
   "metadata": {
    "tags": []
   },
   "outputs": [
    {
     "output_type": "stream",
     "name": "stdout",
     "text": "Om du kör med hastigheten 70 km/h i 1,5 timmar, så hinner du\n105.0\nkm.\n"
    }
   ],
   "source": [
    "# Uppgift 5 a)\n",
    "\n",
    "print (\"Om du kör med hastigheten 70 km/h i 1,5 timmar, så hinner du\")\n",
    "print (70*1.5)\n",
    "print (\"km.\")"
   ]
  },
  {
   "cell_type": "code",
   "execution_count": 34,
   "metadata": {
    "tags": []
   },
   "outputs": [
    {
     "output_type": "stream",
     "name": "stdout",
     "text": "Om du kör med hastigheten 70 km/h i 1,5 timmar, så hinner du 105.0 km.\n"
    }
   ],
   "source": [
    "# Uppgift 5 b)\n",
    "\n",
    "print (\"Om du kör med hastigheten 70 km/h i 1,5 timmar, så hinner du\", 70*1.5, \"km.\")"
   ]
  },
  {
   "cell_type": "code",
   "execution_count": 36,
   "metadata": {
    "tags": []
   },
   "outputs": [
    {
     "output_type": "stream",
     "name": "stdout",
     "text": "3\n"
    }
   ],
   "source": [
    "#Uppgift 6 a)\n",
    "\n",
    "# hej hej\n",
    "# hejhejhej"
   ]
  },
  {
   "cell_type": "code",
   "execution_count": null,
   "metadata": {},
   "outputs": [],
   "source": []
  }
 ]
}