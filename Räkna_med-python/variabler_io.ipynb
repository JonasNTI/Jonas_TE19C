{
 "metadata": {
  "language_info": {
   "codemirror_mode": {
    "name": "ipython",
    "version": 3
   },
   "file_extension": ".py",
   "mimetype": "text/x-python",
   "name": "python",
   "nbconvert_exporter": "python",
   "pygments_lexer": "ipython3",
   "version": "3.8.3-final"
  },
  "orig_nbformat": 2,
  "kernelspec": {
   "name": "python_defaultSpec_1600254930748",
   "display_name": "Python 3.8.3 64-bit ('base': conda)"
  }
 },
 "nbformat": 4,
 "nbformat_minor": 2,
 "cells": [
  {
   "cell_type": "code",
   "execution_count": 16,
   "metadata": {
    "tags": []
   },
   "outputs": [
    {
     "output_type": "stream",
     "name": "stdout",
     "text": "Din tyngdkraft är 549.9200000000001N\n"
    }
   ],
   "source": [
    "# skapar en variabel g och tilldelar det värdet 9.82\n",
    "g = 9.82\n",
    "\n",
    "m = float(input(\"Hur mycket väger du???\"))\n",
    "\n",
    "F = m*g\n",
    "\n",
    "print(f\"Din tyngdkraft är {F}N\")"
   ]
  },
  {
   "cell_type": "code",
   "execution_count": 22,
   "metadata": {
    "tags": []
   },
   "outputs": [
    {
     "output_type": "stream",
     "name": "stdout",
     "text": "0.58 = 58%\n"
    }
   ],
   "source": [
    "decimalTal = float(input(\"skriv ett decimaltal\"))\n",
    "\n",
    "proCent = decimalTal*100\n",
    "\n",
    "print(f\"{decimalTal} = {proCent:.0f}%\")"
   ]
  },
  {
   "cell_type": "code",
   "execution_count": 23,
   "metadata": {
    "tags": []
   },
   "outputs": [
    {
     "output_type": "stream",
     "name": "stdout",
     "text": "1.0°K = -272.15°C\n"
    }
   ],
   "source": [
    "Kelvin = float(input(\"skriv ett tal så konverteras det från Kelvin till Celcius \"))\n",
    "\n",
    "Celcius = Kelvin-273.15\n",
    "\n",
    "print(f\"{Kelvin:.0f}°K = {Celcius}°C\")"
   ]
  },
  {
   "cell_type": "code",
   "execution_count": 24,
   "metadata": {
    "tags": []
   },
   "outputs": [
    {
     "output_type": "stream",
     "name": "stdout",
     "text": "0°C = 273.15°K\n"
    }
   ],
   "source": [
    "celcius = float(input(\"skriv ett tal så konverteras det från Celcius till Kelvin\"))\n",
    "\n",
    "kelvin = celcius+273.15\n",
    "\n",
    "print(f\"{celcius:.0f}°C = {kelvin}°K\")"
   ]
  },
  {
   "cell_type": "code",
   "execution_count": 38,
   "metadata": {
    "tags": []
   },
   "outputs": [
    {
     "output_type": "stream",
     "name": "stdout",
     "text": "Betalar du endast med engångsbiljetter blir kostnaden varje månad 780.0kr\nDu borde köpa ett månadskort\n"
    }
   ],
   "source": [
    "# Västtrafik\n",
    "\n",
    "engångsbiljett = 30\n",
    "månadskort = 775\n",
    "\n",
    "antal_gånger = float(input(\"Hur många gånger i månaden åker du med Västtrafik\"))\n",
    "\n",
    "Pris = engångsbiljett*antal_gånger\n",
    "\n",
    "print(f\"Betalar du endast med engångsbiljetter blir kostnaden varje månad {Pris}kr\")\n",
    "\n",
    "if Pris > 775: print(\"Du borde köpa ett månadskort\")\n",
    "if Pris < 775: print(\"Du borde använda engångsbiljetter\")"
   ]
  },
  {
   "cell_type": "code",
   "execution_count": 10,
   "metadata": {
    "tags": []
   },
   "outputs": [
    {
     "output_type": "stream",
     "name": "stdout",
     "text": "Scooter X kostar 58.0kr\nScooter y kostar 26.0kr\n"
    }
   ],
   "source": [
    "# Egen uppgifttttt\n",
    "\n",
    "tid_eller_distans = float(input(\"Skriv om du ska färdas en viss tid eller distans. (Svara [1] för tid eller [2] för distans\"))\n",
    "\n",
    "if tid_eller_distans == 1: Tid = float(input(\"Hur länge ska du åka på scootern?\"))\n",
    "elif tid_eller_distans == 2: Distans = float(input(\"Hur långt ska du åka på scootern?\"))\n",
    "else: print(\"Skriv en av siffrorna 1 eller 2\")\n",
    "\n",
    "Pris_scooter_x_tid = 50+2*Tid\n",
    "Pris_scooter_y_tid = 10+4*Tid\n",
    "\n",
    "if tid_eller_distans == 1: print(f\"Scooter X kostar {Pris_scooter_x_tid}kr\") \n",
    "if tid_eller_distans == 1: print(f\"Scooter y kostar {Pris_scooter_y_tid}kr\")\n",
    "\n",
    "Pris_scooter_x_distans = 18/60*Distans\n",
    "Pris_scooter_y_distans = 22/60*Distans\n",
    "\n",
    "\n",
    "# Ska lägga till hur mycket det kostar för x antal kilometer."
   ]
  },
  {
   "cell_type": "markdown",
   "metadata": {},
   "source": [
    "# if-satser uppgifter"
   ]
  },
  {
   "cell_type": "code",
   "execution_count": 3,
   "metadata": {
    "tags": []
   },
   "outputs": [
    {
     "output_type": "stream",
     "name": "stdout",
     "text": "Talet är noll\n"
    }
   ],
   "source": [
    "# uppgift 1\n",
    "\n",
    "Tal_1 = float(input(\"Skriv in vilket positivt eller negativt heltal som helst: \"))\n",
    "\n",
    "if Tal_1 > 0:\n",
    "    print(\"Talet är positivt\")\n",
    "elif Tal_1 < 0:\n",
    "    print(\"Talet är negativt\")\n",
    "else:\n",
    "    print(\"Talet är noll\")"
   ]
  },
  {
   "cell_type": "code",
   "execution_count": null,
   "metadata": {},
   "outputs": [],
   "source": [
    "# uppgift 2\n",
    "\n",
    "Tal_2 = float(input(\"Skriv in vilket positivt heltal som helst: \"))\n"
   ]
  }
 ]
}