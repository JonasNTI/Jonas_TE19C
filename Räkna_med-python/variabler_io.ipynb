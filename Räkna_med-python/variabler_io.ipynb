{
 "metadata": {
  "language_info": {
   "codemirror_mode": {
    "name": "ipython",
    "version": 3
   },
   "file_extension": ".py",
   "mimetype": "text/x-python",
   "name": "python",
   "nbconvert_exporter": "python",
   "pygments_lexer": "ipython3",
   "version": "3.8.3-final"
  },
  "orig_nbformat": 2,
  "kernelspec": {
   "name": "python_defaultSpec_1599201787548",
   "display_name": "Python 3.8.3 64-bit ('base': conda)"
  }
 },
 "nbformat": 4,
 "nbformat_minor": 2,
 "cells": [
  {
   "cell_type": "code",
   "execution_count": 16,
   "metadata": {
    "tags": []
   },
   "outputs": [
    {
     "output_type": "stream",
     "name": "stdout",
     "text": "Din tyngdkraft är 549.9200000000001N\n"
    }
   ],
   "source": [
    "# skapar en variabel g och tilldelar det värdet 9.82\n",
    "g = 9.82\n",
    "\n",
    "m = float(input(\"Hur mycket väger du???\"))\n",
    "\n",
    "F = m*g\n",
    "\n",
    "print(f\"Din tyngdkraft är {F}N\")"
   ]
  },
  {
   "cell_type": "code",
   "execution_count": 22,
   "metadata": {
    "tags": []
   },
   "outputs": [
    {
     "output_type": "stream",
     "name": "stdout",
     "text": "0.58 = 58%\n"
    }
   ],
   "source": [
    "decimalTal = float(input(\"skriv ett decimaltal\"))\n",
    "\n",
    "proCent = decimalTal*100\n",
    "\n",
    "print(f\"{decimalTal} = {proCent:.0f}%\")"
   ]
  },
  {
   "cell_type": "code",
   "execution_count": 23,
   "metadata": {
    "tags": []
   },
   "outputs": [
    {
     "output_type": "stream",
     "name": "stdout",
     "text": "1.0°K = -272.15°C\n"
    }
   ],
   "source": [
    "Kelvin = float(input(\"skriv ett tal så konverteras det från Kelvin till Celcius \"))\n",
    "\n",
    "Celcius = Kelvin-273.15\n",
    "\n",
    "print(f\"{Kelvin:.0f}°K = {Celcius}°C\")"
   ]
  },
  {
   "cell_type": "code",
   "execution_count": 24,
   "metadata": {
    "tags": []
   },
   "outputs": [
    {
     "output_type": "stream",
     "name": "stdout",
     "text": "0°C = 273.15°K\n"
    }
   ],
   "source": [
    "celcius = float(input(\"skriv ett tal så konverteras det från Celcius till Kelvin\"))\n",
    "\n",
    "kelvin = celcius+273.15\n",
    "\n",
    "print(f\"{celcius:.0f}°C = {kelvin}°K\")"
   ]
  },
  {
   "cell_type": "code",
   "execution_count": 38,
   "metadata": {
    "tags": []
   },
   "outputs": [
    {
     "output_type": "stream",
     "name": "stdout",
     "text": "Betalar du endast med engångsbiljetter blir kostnaden varje månad 780.0kr\nDu borde köpa ett månadskort\n"
    }
   ],
   "source": [
    "# Västtrafik\n",
    "\n",
    "engångsbiljett = 30\n",
    "månadskort = 775\n",
    "\n",
    "antal_gånger = float(input(\"Hur många gånger i månaden åker du med Västtrafik\"))\n",
    "\n",
    "Pris = engångsbiljett*antal_gånger\n",
    "\n",
    "print(f\"Betalar du endast med engångsbiljetter blir kostnaden varje månad {Pris}kr\")\n",
    "\n",
    "if Pris > 775: print(\"Du borde köpa ett månadskort\")\n",
    "if Pris < 775: print(\"Du borde använda engångsbiljetter\")"
   ]
  },
  {
   "cell_type": "code",
   "execution_count": null,
   "metadata": {},
   "outputs": [],
   "source": []
  }
 ]
}